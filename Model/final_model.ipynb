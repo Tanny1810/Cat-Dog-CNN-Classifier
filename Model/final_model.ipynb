{
 "cells": [
  {
   "cell_type": "markdown",
   "id": "dd508718",
   "metadata": {},
   "source": [
    "# Combining model and VGG16 to fine tune the model "
   ]
  },
  {
   "cell_type": "markdown",
   "id": "a053112d",
   "metadata": {},
   "source": [
    "## Import libraries"
   ]
  },
  {
   "cell_type": "code",
   "execution_count": 4,
   "id": "01917314",
   "metadata": {
    "ExecuteTime": {
     "end_time": "2022-01-26T20:01:26.435389Z",
     "start_time": "2022-01-26T20:01:26.422386Z"
    }
   },
   "outputs": [],
   "source": [
    "## libraries\n",
    "import tensorflow as tf\n",
    "from keras.preprocessing.image import ImageDataGenerator\n",
    "from keras.models import Sequential, Model\n",
    "from keras.layers import Conv2D, MaxPooling2D\n",
    "from keras.layers import Activation, Dropout, Flatten, Dense\n",
    "from keras import applications\n",
    "import matplotlib.pyplot as plt"
   ]
  },
  {
   "cell_type": "markdown",
   "id": "51b3e3af",
   "metadata": {},
   "source": [
    "## initialization"
   ]
  },
  {
   "cell_type": "code",
   "execution_count": 5,
   "id": "2e476255",
   "metadata": {
    "ExecuteTime": {
     "end_time": "2022-01-26T20:01:27.102926Z",
     "start_time": "2022-01-26T20:01:27.092923Z"
    }
   },
   "outputs": [],
   "source": [
    "model_weights = r'bottleneck_fc_model.h5'\n",
    "\n",
    "## image dimensions\n",
    "img_h, img_w = 150, 150\n",
    "\n",
    "## epochs\n",
    "epochs = 50\n",
    "\n",
    "## batch Size\n",
    "batch_size = 16\n",
    "\n",
    "## total no of train and validation samples\n",
    "nb_train_samples = 1700\n",
    "nb_validation_samples = 500\n",
    "\n",
    "## data set directory\n",
    "train_data_dir = r'..\\Data\\train'\n",
    "validation_data_dir = r'..\\Data\\validation'"
   ]
  },
  {
   "cell_type": "markdown",
   "id": "74f5f9d9",
   "metadata": {},
   "source": [
    "## Model"
   ]
  },
  {
   "cell_type": "code",
   "execution_count": 6,
   "id": "29fca74b",
   "metadata": {
    "ExecuteTime": {
     "end_time": "2022-01-26T20:01:29.117391Z",
     "start_time": "2022-01-26T20:01:27.885105Z"
    }
   },
   "outputs": [
    {
     "name": "stdout",
     "output_type": "stream",
     "text": [
      "Model loaded.\n"
     ]
    }
   ],
   "source": [
    "## vgg16 network\n",
    "model = applications.vgg16.VGG16(include_top = False, weights = 'imagenet', input_shape=(150,150,3))\n",
    "print('Model loaded.')\n",
    "\n",
    "top_model = Sequential()\n",
    "top_model.add(Flatten(input_shape = model.output_shape[1:]))\n",
    "top_model.add(Dense(256, activation = 'relu'))\n",
    "top_model.add(Dropout(0.5))\n",
    "top_model.add(Dense(1, activation = 'sigmoid'))\n",
    "\n",
    "top_model.load_weights(model_weights)\n",
    "\n",
    "model = Model(inputs=model.input, outputs=top_model(model.output))\n",
    "\n",
    "for layer in model.layers[:15]:\n",
    "    layer.trainable = False\n",
    "    \n",
    "model.compile(loss = 'binary_crossentropy', \n",
    "             optimizer = tf.keras.optimizers.SGD(learning_rate = 1e-4, momentum = 0.9), \n",
    "             metrics = ['accuracy'])"
   ]
  },
  {
   "cell_type": "markdown",
   "id": "a1cb239d",
   "metadata": {},
   "source": [
    "## Data Preprocessing"
   ]
  },
  {
   "cell_type": "code",
   "execution_count": 7,
   "id": "53be8793",
   "metadata": {
    "ExecuteTime": {
     "end_time": "2022-01-26T20:01:29.260424Z",
     "start_time": "2022-01-26T20:01:29.167402Z"
    }
   },
   "outputs": [
    {
     "name": "stdout",
     "output_type": "stream",
     "text": [
      "Found 1700 images belonging to 2 classes.\n",
      "Found 500 images belonging to 2 classes.\n"
     ]
    }
   ],
   "source": [
    "## data augmentation\n",
    "train_datagen = ImageDataGenerator(rescale = 1./255, \n",
    "                                   shear_range = 0.3, \n",
    "                                   zoom_range = 0.2, \n",
    "                                   horizontal_flip = True)\n",
    "\n",
    "test_datagen = ImageDataGenerator(rescale=1. / 255)\n",
    "\n",
    "## train data\n",
    "train_generator = train_datagen.flow_from_directory(train_data_dir,\n",
    "                                                    target_size=(img_w, img_h),\n",
    "                                                    batch_size=batch_size,\n",
    "                                                    class_mode='binary')\n",
    "\n",
    "## validation data\n",
    "validation_generator = test_datagen.flow_from_directory(validation_data_dir,\n",
    "                                                        target_size=(img_w, img_h),\n",
    "                                                        batch_size=batch_size,\n",
    "                                                        class_mode='binary')"
   ]
  },
  {
   "cell_type": "markdown",
   "id": "fd75345a",
   "metadata": {},
   "source": [
    "## Model Train/Validation"
   ]
  },
  {
   "cell_type": "code",
   "execution_count": 8,
   "id": "9bb6f352",
   "metadata": {
    "ExecuteTime": {
     "end_time": "2022-01-26T20:07:57.490467Z",
     "start_time": "2022-01-26T20:01:29.746536Z"
    },
    "scrolled": false
   },
   "outputs": [
    {
     "name": "stdout",
     "output_type": "stream",
     "text": [
      "Epoch 1/50\n",
      "107/107 [==============================] - 15s 76ms/step - loss: 0.5261 - accuracy: 0.8153 - val_loss: 0.3809 - val_accuracy: 0.8460\n",
      "Epoch 2/50\n",
      "107/107 [==============================] - 8s 70ms/step - loss: 0.3137 - accuracy: 0.8706 - val_loss: 0.4099 - val_accuracy: 0.8520\n",
      "Epoch 3/50\n",
      "107/107 [==============================] - 8s 72ms/step - loss: 0.2523 - accuracy: 0.8965 - val_loss: 0.3897 - val_accuracy: 0.8580\n",
      "Epoch 4/50\n",
      "107/107 [==============================] - 8s 71ms/step - loss: 0.2027 - accuracy: 0.9153 - val_loss: 0.4327 - val_accuracy: 0.8700\n",
      "Epoch 5/50\n",
      "107/107 [==============================] - 8s 73ms/step - loss: 0.2041 - accuracy: 0.9206 - val_loss: 0.4146 - val_accuracy: 0.8660\n",
      "Epoch 6/50\n",
      "107/107 [==============================] - 8s 77ms/step - loss: 0.1725 - accuracy: 0.9359 - val_loss: 0.4385 - val_accuracy: 0.8640\n",
      "Epoch 7/50\n",
      "107/107 [==============================] - 8s 70ms/step - loss: 0.1585 - accuracy: 0.9382 - val_loss: 0.3717 - val_accuracy: 0.8560\n",
      "Epoch 8/50\n",
      "107/107 [==============================] - 7s 70ms/step - loss: 0.1261 - accuracy: 0.9524 - val_loss: 0.4585 - val_accuracy: 0.8660\n",
      "Epoch 9/50\n",
      "107/107 [==============================] - 8s 70ms/step - loss: 0.1466 - accuracy: 0.9512 - val_loss: 0.3731 - val_accuracy: 0.8660\n",
      "Epoch 10/50\n",
      "107/107 [==============================] - 8s 70ms/step - loss: 0.1136 - accuracy: 0.9588 - val_loss: 0.4444 - val_accuracy: 0.8740\n",
      "Epoch 11/50\n",
      "107/107 [==============================] - 8s 70ms/step - loss: 0.1249 - accuracy: 0.9547 - val_loss: 0.3782 - val_accuracy: 0.8860\n",
      "Epoch 12/50\n",
      "107/107 [==============================] - 7s 70ms/step - loss: 0.0983 - accuracy: 0.9659 - val_loss: 0.4577 - val_accuracy: 0.8720\n",
      "Epoch 13/50\n",
      "107/107 [==============================] - 8s 71ms/step - loss: 0.0887 - accuracy: 0.9676 - val_loss: 0.4731 - val_accuracy: 0.8840\n",
      "Epoch 14/50\n",
      "107/107 [==============================] - 8s 70ms/step - loss: 0.0969 - accuracy: 0.9665 - val_loss: 0.4694 - val_accuracy: 0.8800\n",
      "Epoch 15/50\n",
      "107/107 [==============================] - 8s 70ms/step - loss: 0.0969 - accuracy: 0.9706 - val_loss: 0.4246 - val_accuracy: 0.8760\n",
      "Epoch 16/50\n",
      "107/107 [==============================] - 8s 70ms/step - loss: 0.0769 - accuracy: 0.9788 - val_loss: 0.4449 - val_accuracy: 0.8880\n",
      "Epoch 17/50\n",
      "107/107 [==============================] - 8s 70ms/step - loss: 0.0631 - accuracy: 0.9771 - val_loss: 0.4642 - val_accuracy: 0.8900\n",
      "Epoch 18/50\n",
      "107/107 [==============================] - 8s 70ms/step - loss: 0.0761 - accuracy: 0.9753 - val_loss: 0.4595 - val_accuracy: 0.8780\n",
      "Epoch 19/50\n",
      "107/107 [==============================] - 8s 72ms/step - loss: 0.0505 - accuracy: 0.9835 - val_loss: 0.5219 - val_accuracy: 0.8780\n",
      "Epoch 20/50\n",
      "107/107 [==============================] - 8s 70ms/step - loss: 0.0635 - accuracy: 0.9794 - val_loss: 0.5999 - val_accuracy: 0.8740\n",
      "Epoch 21/50\n",
      "107/107 [==============================] - 8s 70ms/step - loss: 0.0590 - accuracy: 0.9776 - val_loss: 0.4476 - val_accuracy: 0.8780\n",
      "Epoch 22/50\n",
      "107/107 [==============================] - 8s 71ms/step - loss: 0.0577 - accuracy: 0.9782 - val_loss: 0.4663 - val_accuracy: 0.8800\n",
      "Epoch 23/50\n",
      "107/107 [==============================] - 8s 71ms/step - loss: 0.0606 - accuracy: 0.9794 - val_loss: 0.4925 - val_accuracy: 0.8860\n",
      "Epoch 24/50\n",
      "107/107 [==============================] - 7s 70ms/step - loss: 0.0494 - accuracy: 0.9829 - val_loss: 0.4529 - val_accuracy: 0.8820\n",
      "Epoch 25/50\n",
      "107/107 [==============================] - 8s 71ms/step - loss: 0.0521 - accuracy: 0.9876 - val_loss: 0.4524 - val_accuracy: 0.8820\n",
      "Epoch 26/50\n",
      "107/107 [==============================] - 8s 70ms/step - loss: 0.0372 - accuracy: 0.9876 - val_loss: 0.4905 - val_accuracy: 0.8820\n",
      "Epoch 27/50\n",
      "107/107 [==============================] - 8s 70ms/step - loss: 0.0493 - accuracy: 0.9806 - val_loss: 0.5040 - val_accuracy: 0.8860\n",
      "Epoch 28/50\n",
      "107/107 [==============================] - 7s 70ms/step - loss: 0.0315 - accuracy: 0.9888 - val_loss: 0.5659 - val_accuracy: 0.8860\n",
      "Epoch 29/50\n",
      "107/107 [==============================] - 8s 70ms/step - loss: 0.0332 - accuracy: 0.9900 - val_loss: 0.5539 - val_accuracy: 0.8800\n",
      "Epoch 30/50\n",
      "107/107 [==============================] - 7s 70ms/step - loss: 0.0502 - accuracy: 0.9829 - val_loss: 0.4380 - val_accuracy: 0.8900\n",
      "Epoch 31/50\n",
      "107/107 [==============================] - 8s 71ms/step - loss: 0.0340 - accuracy: 0.9894 - val_loss: 0.5800 - val_accuracy: 0.8780\n",
      "Epoch 32/50\n",
      "107/107 [==============================] - 7s 70ms/step - loss: 0.0281 - accuracy: 0.9906 - val_loss: 0.5199 - val_accuracy: 0.8860\n",
      "Epoch 33/50\n",
      "107/107 [==============================] - 8s 70ms/step - loss: 0.0264 - accuracy: 0.9947 - val_loss: 0.4972 - val_accuracy: 0.8900\n",
      "Epoch 34/50\n",
      "107/107 [==============================] - 8s 70ms/step - loss: 0.0202 - accuracy: 0.9918 - val_loss: 0.5301 - val_accuracy: 0.8880\n",
      "Epoch 35/50\n",
      "107/107 [==============================] - 7s 70ms/step - loss: 0.0223 - accuracy: 0.9929 - val_loss: 0.5243 - val_accuracy: 0.8840\n",
      "Epoch 36/50\n",
      "107/107 [==============================] - 8s 71ms/step - loss: 0.0262 - accuracy: 0.9912 - val_loss: 0.5885 - val_accuracy: 0.8760\n",
      "Epoch 37/50\n",
      "107/107 [==============================] - 8s 71ms/step - loss: 0.0345 - accuracy: 0.9888 - val_loss: 0.5118 - val_accuracy: 0.8820\n",
      "Epoch 38/50\n",
      "107/107 [==============================] - 8s 71ms/step - loss: 0.0265 - accuracy: 0.9906 - val_loss: 0.5415 - val_accuracy: 0.8820\n",
      "Epoch 39/50\n",
      "107/107 [==============================] - 8s 74ms/step - loss: 0.0215 - accuracy: 0.9912 - val_loss: 0.5234 - val_accuracy: 0.8920\n",
      "Epoch 40/50\n",
      "107/107 [==============================] - 8s 71ms/step - loss: 0.0192 - accuracy: 0.9947 - val_loss: 0.5929 - val_accuracy: 0.8960\n",
      "Epoch 41/50\n",
      "107/107 [==============================] - 8s 71ms/step - loss: 0.0184 - accuracy: 0.9941 - val_loss: 0.5889 - val_accuracy: 0.8920\n",
      "Epoch 42/50\n",
      "107/107 [==============================] - 8s 71ms/step - loss: 0.0340 - accuracy: 0.9900 - val_loss: 0.5989 - val_accuracy: 0.8840\n",
      "Epoch 43/50\n",
      "107/107 [==============================] - 8s 71ms/step - loss: 0.0237 - accuracy: 0.9941 - val_loss: 0.5331 - val_accuracy: 0.8920\n",
      "Epoch 44/50\n",
      "107/107 [==============================] - 8s 70ms/step - loss: 0.0233 - accuracy: 0.9929 - val_loss: 0.5259 - val_accuracy: 0.8920\n",
      "Epoch 45/50\n",
      "107/107 [==============================] - 8s 71ms/step - loss: 0.0188 - accuracy: 0.9953 - val_loss: 0.5621 - val_accuracy: 0.8860\n",
      "Epoch 46/50\n",
      "107/107 [==============================] - 8s 71ms/step - loss: 0.0197 - accuracy: 0.9959 - val_loss: 0.5357 - val_accuracy: 0.8860\n",
      "Epoch 47/50\n",
      "107/107 [==============================] - 8s 70ms/step - loss: 0.0136 - accuracy: 0.9941 - val_loss: 0.5549 - val_accuracy: 0.8920\n",
      "Epoch 48/50\n",
      "107/107 [==============================] - 8s 71ms/step - loss: 0.0121 - accuracy: 0.9965 - val_loss: 0.6462 - val_accuracy: 0.8820\n",
      "Epoch 49/50\n",
      "107/107 [==============================] - 8s 71ms/step - loss: 0.0151 - accuracy: 0.9935 - val_loss: 0.5543 - val_accuracy: 0.8940\n",
      "Epoch 50/50\n",
      "107/107 [==============================] - 7s 70ms/step - loss: 0.0188 - accuracy: 0.9953 - val_loss: 0.5388 - val_accuracy: 0.8940\n"
     ]
    },
    {
     "data": {
      "image/png": "[encoded data removed]",
      "text/plain": [
       "<Figure size 432x288 with 1 Axes>"
      ]
     },
     "metadata": {
      "needs_background": "light"
     },
     "output_type": "display_data"
    },
    {
     "data": {
      "image/png": "[encoded data removed]",
      "text/plain": [
       "<Figure size 432x288 with 1 Axes>"
      ]
     },
     "metadata": {
      "needs_background": "light"
     },
     "output_type": "display_data"
    }
   ],
   "source": [
    "## training and testing model with the data set\n",
    "history = model.fit(train_generator,\n",
    "                    batch_size = batch_size,\n",
    "                    epochs = epochs,\n",
    "                    validation_data = validation_generator)\n",
    "\n",
    "## plot accuracy graph\n",
    "plt.plot(history.history['accuracy'])\n",
    "plt.plot(history.history['val_accuracy'])\n",
    "plt.title('Training and Validation accuracy')\n",
    "plt.legend(['accuracy','validation accuracy'])\n",
    "plt.xlabel('Epochs')\n",
    "plt.ylabel('Accuracy')\n",
    "plt.show()\n",
    "\n",
    "## plot loss graph\n",
    "plt.plot(history.history['loss'])\n",
    "plt.plot(history.history['val_loss'])\n",
    "plt.title('Training and Validation loss')\n",
    "plt.legend(['loss','validation loss'])\n",
    "plt.xlabel('Epochs')\n",
    "plt.ylabel('Loss')\n",
    "plt.show()"
   ]
  }
 ],
 "metadata": {
  "kernelspec": {
   "display_name": "Python 3 (ipykernel)",
   "language": "python",
   "name": "python3"
  },
  "language_info": {
   "codemirror_mode": {
    "name": "ipython",
    "version": 3
   },
   "file_extension": ".py",
   "mimetype": "text/x-python",
   "name": "python",
   "nbconvert_exporter": "python",
   "pygments_lexer": "ipython3",
   "version": "3.8.8"
  },
  "toc": {
   "base_numbering": 1,
   "nav_menu": {},
   "number_sections": true,
   "sideBar": true,
   "skip_h1_title": false,
   "title_cell": "Table of Contents",
   "title_sidebar": "Contents",
   "toc_cell": false,
   "toc_position": {},
   "toc_section_display": true,
   "toc_window_display": false
  },
  "varInspector": {
   "cols": {
    "lenName": 16,
    "lenType": 16,
    "lenVar": 40
   },
   "kernels_config": {
    "python": {
     "delete_cmd_postfix": "",
     "delete_cmd_prefix": "del ",
     "library": "var_list.py",
     "varRefreshCmd": "print(var_dic_list())"
    },
    "r": {
     "delete_cmd_postfix": ") ",
     "delete_cmd_prefix": "rm(",
     "library": "var_list.r",
     "varRefreshCmd": "cat(var_dic_list()) "
    }
   },
   "types_to_exclude": [
    "module",
    "function",
    "builtin_function_or_method",
    "instance",
    "_Feature"
   ],
   "window_display": false
  }
 },
 "nbformat": 4,
 "nbformat_minor": 5
}
