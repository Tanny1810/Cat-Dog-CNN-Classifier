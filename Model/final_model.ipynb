{
 "cells": [
  {
   "cell_type": "markdown",
   "id": "be456836",
   "metadata": {},
   "source": [
    "# Combining model and VGG16 to fine tune the model "
   ]
  },
  {
   "cell_type": "markdown",
   "id": "d262dbbb",
   "metadata": {},
   "source": [
    "## Import libraries"
   ]
  },
  {
   "cell_type": "code",
   "execution_count": 21,
   "id": "35fceac3",
   "metadata": {
    "ExecuteTime": {
     "end_time": "2022-01-27T19:23:07.068929Z",
     "start_time": "2022-01-27T19:23:07.051925Z"
    }
   },
   "outputs": [],
   "source": [
    "## libraries\n",
    "import tensorflow as tf\n",
    "from keras.preprocessing.image import ImageDataGenerator\n",
    "from keras.models import Sequential, Model\n",
    "from keras.layers import Conv2D, MaxPooling2D, InputLayer\n",
    "from keras.layers import Activation, Dropout, Flatten, Dense, BatchNormalization\n",
    "from keras import applications\n",
    "import matplotlib.pyplot as plt"
   ]
  },
  {
   "cell_type": "markdown",
   "id": "276a25b0",
   "metadata": {},
   "source": [
    "## initialization"
   ]
  },
  {
   "cell_type": "code",
   "execution_count": 22,
   "id": "563009eb",
   "metadata": {
    "ExecuteTime": {
     "end_time": "2022-01-27T19:23:07.801094Z",
     "start_time": "2022-01-27T19:23:07.791092Z"
    }
   },
   "outputs": [],
   "source": [
    "model_weights = r'..\\Weights\\bottleneck_fc_model.h5'\n",
    "\n",
    "## image dimensions\n",
    "img_h, img_w = 150, 150\n",
    "\n",
    "## epochs\n",
    "epochs = 50\n",
    "\n",
    "## batch Size\n",
    "batch_size = 32\n",
    "\n",
    "## total no of train and validation samples\n",
    "nb_train_samples = 1700\n",
    "nb_validation_samples = 500\n",
    "\n",
    "## data set directory\n",
    "train_data_dir = r'..\\Data\\train'\n",
    "validation_data_dir = r'..\\Data\\validation'\n"
   ]
  },
  {
   "cell_type": "markdown",
   "id": "ecda7ccc",
   "metadata": {},
   "source": [
    "## Model"
   ]
  },
  {
   "cell_type": "code",
   "execution_count": 31,
   "id": "aecfafa2",
   "metadata": {
    "ExecuteTime": {
     "end_time": "2022-01-27T19:25:12.738053Z",
     "start_time": "2022-01-27T19:25:12.475994Z"
    }
   },
   "outputs": [
    {
     "name": "stdout",
     "output_type": "stream",
     "text": [
      "Model loaded.\n"
     ]
    }
   ],
   "source": [
    "## vgg16 network\n",
    "model = applications.vgg16.VGG16(include_top = False, weights = 'imagenet', input_shape=(150,150,3))\n",
    "print('Model loaded.')\n",
    "\n",
    "top_model = Sequential()\n",
    "# top_model.add(Dense(128))\n",
    "top_model.add(Conv2D(128,(3,3),input_shape = model.output_shape[1:]))\n",
    "top_model.add(BatchNormalization(axis=3))\n",
    "top_model.add(Activation('relu'))\n",
    "top_model.add(MaxPooling2D(pool_size = (2, 2)))\n",
    "top_model.add(Flatten())\n",
    "top_model.add(Dense(256, activation = 'relu'))\n",
    "top_model.add(Dropout(0.6))\n",
    "top_model.add(Dense(1, activation = 'sigmoid'))\n",
    "\n",
    "top_model.load_weights(model_weights, by_name = True, skip_mismatch = True)\n",
    "\n",
    "model = Model(inputs=model.input, outputs=top_model(model.output))\n",
    "\n",
    "for layer in model.layers[:15]:\n",
    "    layer.trainable = False\n",
    "    \n",
    "model.compile(loss = 'binary_crossentropy', \n",
    "             optimizer = tf.keras.optimizers.SGD(learning_rate = 1e-4, momentum = 0.9), \n",
    "             metrics = ['accuracy'])"
   ]
  },
  {
   "cell_type": "markdown",
   "id": "b1f9f36b",
   "metadata": {},
   "source": [
    "## Data Preprocessing"
   ]
  },
  {
   "cell_type": "code",
   "execution_count": 32,
   "id": "7d1f4c22",
   "metadata": {
    "ExecuteTime": {
     "end_time": "2022-01-27T19:25:13.678271Z",
     "start_time": "2022-01-27T19:25:13.591251Z"
    }
   },
   "outputs": [
    {
     "name": "stdout",
     "output_type": "stream",
     "text": [
      "Found 1700 images belonging to 2 classes.\n",
      "Found 500 images belonging to 2 classes.\n"
     ]
    }
   ],
   "source": [
    "## data augmentation\n",
    "train_datagen = ImageDataGenerator(rescale = 1./255, \n",
    "                                   shear_range = 0.3, \n",
    "                                   zoom_range = 0.2, \n",
    "                                   horizontal_flip = True, \n",
    "                                   rotation_range=20)\n",
    "\n",
    "test_datagen = ImageDataGenerator(rescale=1. / 255)\n",
    "\n",
    "## train data\n",
    "train_generator = train_datagen.flow_from_directory(train_data_dir,\n",
    "                                                    target_size=(img_w, img_h),\n",
    "                                                    batch_size=batch_size,\n",
    "                                                    class_mode='binary')\n",
    "\n",
    "## validation data\n",
    "validation_generator = test_datagen.flow_from_directory(validation_data_dir,\n",
    "                                                        target_size=(img_w, img_h),\n",
    "                                                        batch_size=batch_size,\n",
    "                                                        class_mode='binary')"
   ]
  },
  {
   "cell_type": "markdown",
   "id": "dfbe8dea",
   "metadata": {},
   "source": [
    "## Model Train/Validation"
   ]
  },
  {
   "cell_type": "code",
   "execution_count": 33,
   "id": "e098f0bc",
   "metadata": {
    "ExecuteTime": {
     "end_time": "2022-01-27T19:31:49.920833Z",
     "start_time": "2022-01-27T19:25:14.360439Z"
    },
    "scrolled": false
   },
   "outputs": [
    {
     "name": "stdout",
     "output_type": "stream",
     "text": [
      "Epoch 1/50\n",
      "54/54 [==============================] - 19s 341ms/step - loss: 0.7860 - accuracy: 0.5388 - val_loss: 0.6318 - val_accuracy: 0.6180\n",
      "Epoch 2/50\n",
      "54/54 [==============================] - 8s 139ms/step - loss: 0.6530 - accuracy: 0.6429 - val_loss: 0.5354 - val_accuracy: 0.7860\n",
      "Epoch 3/50\n",
      "54/54 [==============================] - 7s 138ms/step - loss: 0.5803 - accuracy: 0.7041 - val_loss: 0.4559 - val_accuracy: 0.8180\n",
      "Epoch 4/50\n",
      "54/54 [==============================] - 7s 138ms/step - loss: 0.5465 - accuracy: 0.7253 - val_loss: 0.4038 - val_accuracy: 0.8320\n",
      "Epoch 5/50\n",
      "54/54 [==============================] - 8s 149ms/step - loss: 0.5080 - accuracy: 0.7506 - val_loss: 0.3703 - val_accuracy: 0.8380\n",
      "Epoch 6/50\n",
      "54/54 [==============================] - 8s 148ms/step - loss: 0.4893 - accuracy: 0.7629 - val_loss: 0.3479 - val_accuracy: 0.8540\n",
      "Epoch 7/50\n",
      "54/54 [==============================] - 7s 137ms/step - loss: 0.4610 - accuracy: 0.7776 - val_loss: 0.3331 - val_accuracy: 0.8580\n",
      "Epoch 8/50\n",
      "54/54 [==============================] - 7s 137ms/step - loss: 0.4368 - accuracy: 0.7876 - val_loss: 0.3195 - val_accuracy: 0.8600\n",
      "Epoch 9/50\n",
      "54/54 [==============================] - 7s 135ms/step - loss: 0.4222 - accuracy: 0.8029 - val_loss: 0.3105 - val_accuracy: 0.8600\n",
      "Epoch 10/50\n",
      "54/54 [==============================] - 8s 141ms/step - loss: 0.3960 - accuracy: 0.8271 - val_loss: 0.3000 - val_accuracy: 0.8640\n",
      "Epoch 11/50\n",
      "54/54 [==============================] - 7s 136ms/step - loss: 0.4090 - accuracy: 0.8029 - val_loss: 0.2901 - val_accuracy: 0.8720\n",
      "Epoch 12/50\n",
      "54/54 [==============================] - 8s 143ms/step - loss: 0.3811 - accuracy: 0.8159 - val_loss: 0.2845 - val_accuracy: 0.8680\n",
      "Epoch 13/50\n",
      "54/54 [==============================] - 8s 138ms/step - loss: 0.3790 - accuracy: 0.8282 - val_loss: 0.2789 - val_accuracy: 0.8720\n",
      "Epoch 14/50\n",
      "54/54 [==============================] - 8s 143ms/step - loss: 0.3626 - accuracy: 0.8365 - val_loss: 0.2757 - val_accuracy: 0.8680\n",
      "Epoch 15/50\n",
      "54/54 [==============================] - 9s 167ms/step - loss: 0.3390 - accuracy: 0.8494 - val_loss: 0.2688 - val_accuracy: 0.8740\n",
      "Epoch 16/50\n",
      "54/54 [==============================] - 7s 137ms/step - loss: 0.3325 - accuracy: 0.8465 - val_loss: 0.2669 - val_accuracy: 0.8760\n",
      "Epoch 17/50\n",
      "54/54 [==============================] - 8s 154ms/step - loss: 0.3263 - accuracy: 0.8547 - val_loss: 0.2617 - val_accuracy: 0.8760\n",
      "Epoch 18/50\n",
      "54/54 [==============================] - 8s 140ms/step - loss: 0.3464 - accuracy: 0.8494 - val_loss: 0.2633 - val_accuracy: 0.8820\n",
      "Epoch 19/50\n",
      "54/54 [==============================] - 7s 138ms/step - loss: 0.2994 - accuracy: 0.8712 - val_loss: 0.2539 - val_accuracy: 0.8900\n",
      "Epoch 20/50\n",
      "54/54 [==============================] - 8s 140ms/step - loss: 0.3102 - accuracy: 0.8618 - val_loss: 0.2525 - val_accuracy: 0.8900\n",
      "Epoch 21/50\n",
      "54/54 [==============================] - 8s 145ms/step - loss: 0.2926 - accuracy: 0.8765 - val_loss: 0.2551 - val_accuracy: 0.8920\n",
      "Epoch 22/50\n",
      "54/54 [==============================] - 8s 147ms/step - loss: 0.2784 - accuracy: 0.8759 - val_loss: 0.2508 - val_accuracy: 0.8860\n",
      "Epoch 23/50\n",
      "54/54 [==============================] - 8s 140ms/step - loss: 0.2924 - accuracy: 0.8724 - val_loss: 0.2560 - val_accuracy: 0.8800\n",
      "Epoch 24/50\n",
      "54/54 [==============================] - 8s 142ms/step - loss: 0.2801 - accuracy: 0.8782 - val_loss: 0.2435 - val_accuracy: 0.9000\n",
      "Epoch 25/50\n",
      "54/54 [==============================] - 8s 139ms/step - loss: 0.2847 - accuracy: 0.8776 - val_loss: 0.2375 - val_accuracy: 0.9040\n",
      "Epoch 26/50\n",
      "54/54 [==============================] - 7s 138ms/step - loss: 0.2658 - accuracy: 0.8882 - val_loss: 0.2361 - val_accuracy: 0.9040\n",
      "Epoch 27/50\n",
      "54/54 [==============================] - 7s 138ms/step - loss: 0.2599 - accuracy: 0.8941 - val_loss: 0.2379 - val_accuracy: 0.8980\n",
      "Epoch 28/50\n",
      "54/54 [==============================] - 8s 143ms/step - loss: 0.2453 - accuracy: 0.8971 - val_loss: 0.2445 - val_accuracy: 0.9000\n",
      "Epoch 29/50\n",
      "54/54 [==============================] - 8s 141ms/step - loss: 0.2370 - accuracy: 0.9029 - val_loss: 0.2369 - val_accuracy: 0.9020\n",
      "Epoch 30/50\n",
      "54/54 [==============================] - 8s 141ms/step - loss: 0.2444 - accuracy: 0.8953 - val_loss: 0.2438 - val_accuracy: 0.8880\n",
      "Epoch 31/50\n",
      "54/54 [==============================] - 8s 141ms/step - loss: 0.2330 - accuracy: 0.9047 - val_loss: 0.2446 - val_accuracy: 0.8900\n",
      "Epoch 32/50\n",
      "54/54 [==============================] - 8s 139ms/step - loss: 0.2389 - accuracy: 0.8924 - val_loss: 0.2373 - val_accuracy: 0.9000\n",
      "Epoch 33/50\n",
      "54/54 [==============================] - 7s 138ms/step - loss: 0.2191 - accuracy: 0.9035 - val_loss: 0.2368 - val_accuracy: 0.9060\n",
      "Epoch 34/50\n",
      "54/54 [==============================] - 8s 139ms/step - loss: 0.2393 - accuracy: 0.9041 - val_loss: 0.2401 - val_accuracy: 0.9020\n",
      "Epoch 35/50\n",
      "54/54 [==============================] - 8s 139ms/step - loss: 0.2150 - accuracy: 0.9106 - val_loss: 0.2421 - val_accuracy: 0.8940\n",
      "Epoch 36/50\n",
      "54/54 [==============================] - 8s 140ms/step - loss: 0.2110 - accuracy: 0.9188 - val_loss: 0.2415 - val_accuracy: 0.9000\n",
      "Epoch 37/50\n",
      "54/54 [==============================] - 7s 137ms/step - loss: 0.2026 - accuracy: 0.9171 - val_loss: 0.2377 - val_accuracy: 0.9020\n",
      "Epoch 38/50\n",
      "54/54 [==============================] - 7s 138ms/step - loss: 0.2060 - accuracy: 0.9159 - val_loss: 0.2398 - val_accuracy: 0.9020\n",
      "Epoch 39/50\n",
      "54/54 [==============================] - 7s 138ms/step - loss: 0.2080 - accuracy: 0.9165 - val_loss: 0.2392 - val_accuracy: 0.9000\n",
      "Epoch 40/50\n",
      "54/54 [==============================] - 8s 140ms/step - loss: 0.1893 - accuracy: 0.9288 - val_loss: 0.2364 - val_accuracy: 0.9080\n",
      "Epoch 41/50\n",
      "54/54 [==============================] - 8s 148ms/step - loss: 0.1981 - accuracy: 0.9194 - val_loss: 0.2447 - val_accuracy: 0.9000\n",
      "Epoch 42/50\n",
      "54/54 [==============================] - 8s 141ms/step - loss: 0.1863 - accuracy: 0.9241 - val_loss: 0.2519 - val_accuracy: 0.8960\n",
      "Epoch 43/50\n",
      "54/54 [==============================] - 8s 144ms/step - loss: 0.1853 - accuracy: 0.9235 - val_loss: 0.2487 - val_accuracy: 0.8880\n",
      "Epoch 44/50\n",
      "54/54 [==============================] - 8s 144ms/step - loss: 0.1845 - accuracy: 0.9282 - val_loss: 0.2361 - val_accuracy: 0.9080\n",
      "Epoch 45/50\n",
      "54/54 [==============================] - 8s 143ms/step - loss: 0.1767 - accuracy: 0.9288 - val_loss: 0.2399 - val_accuracy: 0.9040\n",
      "Epoch 46/50\n",
      "54/54 [==============================] - 8s 142ms/step - loss: 0.1662 - accuracy: 0.9382 - val_loss: 0.2501 - val_accuracy: 0.8860\n",
      "Epoch 47/50\n",
      "54/54 [==============================] - 8s 140ms/step - loss: 0.1500 - accuracy: 0.9441 - val_loss: 0.2409 - val_accuracy: 0.8960\n",
      "Epoch 48/50\n",
      "54/54 [==============================] - 8s 141ms/step - loss: 0.1633 - accuracy: 0.9394 - val_loss: 0.2508 - val_accuracy: 0.8920\n",
      "Epoch 49/50\n",
      "54/54 [==============================] - 8s 143ms/step - loss: 0.1623 - accuracy: 0.9365 - val_loss: 0.2435 - val_accuracy: 0.8960\n",
      "Epoch 50/50\n",
      "54/54 [==============================] - 8s 145ms/step - loss: 0.1430 - accuracy: 0.9471 - val_loss: 0.2386 - val_accuracy: 0.9040\n"
     ]
    },
    {
     "data": {
      "image/png": "[encoded data removed]",
      "text/plain": [
       "<Figure size 432x288 with 1 Axes>"
      ]
     },
     "metadata": {
      "needs_background": "light"
     },
     "output_type": "display_data"
    },
    {
     "data": {
      "image/png": "[encoded data removed]",
      "text/plain": [
       "<Figure size 432x288 with 1 Axes>"
      ]
     },
     "metadata": {
      "needs_background": "light"
     },
     "output_type": "display_data"
    }
   ],
   "source": [
    "## training and testing model with the data set\n",
    "history = model.fit(train_generator,\n",
    "                    batch_size = batch_size,\n",
    "                    epochs = epochs,\n",
    "                    validation_data = validation_generator)\n",
    "\n",
    "## plot accuracy graph\n",
    "plt.plot(history.history['accuracy'])\n",
    "plt.plot(history.history['val_accuracy'])\n",
    "plt.title('Training and Validation accuracy')\n",
    "plt.legend(['accuracy','validation accuracy'])\n",
    "plt.xlabel('Epochs')\n",
    "plt.ylabel('Accuracy')\n",
    "plt.show()\n",
    "\n",
    "## plot loss graph\n",
    "plt.plot(history.history['loss'])\n",
    "plt.plot(history.history['val_loss'])\n",
    "plt.title('Training and Validation loss')\n",
    "plt.legend(['loss','validation loss'])\n",
    "plt.xlabel('Epochs')\n",
    "plt.ylabel('Loss')\n",
    "plt.show()"
   ]
  }
 ],
 "metadata": {
  "kernelspec": {
   "display_name": "Python 3 (ipykernel)",
   "language": "python",
   "name": "python3"
  },
  "language_info": {
   "codemirror_mode": {
    "name": "ipython",
    "version": 3
   },
   "file_extension": ".py",
   "mimetype": "text/x-python",
   "name": "python",
   "nbconvert_exporter": "python",
   "pygments_lexer": "ipython3",
   "version": "3.8.8"
  },
  "toc": {
   "base_numbering": 1,
   "nav_menu": {},
   "number_sections": true,
   "sideBar": true,
   "skip_h1_title": false,
   "title_cell": "Table of Contents",
   "title_sidebar": "Contents",
   "toc_cell": false,
   "toc_position": {},
   "toc_section_display": true,
   "toc_window_display": false
  },
  "varInspector": {
   "cols": {
    "lenName": 16,
    "lenType": 16,
    "lenVar": 40
   },
   "kernels_config": {
    "python": {
     "delete_cmd_postfix": "",
     "delete_cmd_prefix": "del ",
     "library": "var_list.py",
     "varRefreshCmd": "print(var_dic_list())"
    },
    "r": {
     "delete_cmd_postfix": ") ",
     "delete_cmd_prefix": "rm(",
     "library": "var_list.r",
     "varRefreshCmd": "cat(var_dic_list()) "
    }
   },
   "types_to_exclude": [
    "module",
    "function",
    "builtin_function_or_method",
    "instance",
    "_Feature"
   ],
   "window_display": false
  }
 },
 "nbformat": 4,
 "nbformat_minor": 5
}
