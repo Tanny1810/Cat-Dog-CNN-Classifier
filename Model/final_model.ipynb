{
 "cells": [
  {
   "cell_type": "markdown",
   "id": "be456836",
   "metadata": {},
   "source": [
    "# Combining model and VGG16 to fine tune the model "
   ]
  },
  {
   "cell_type": "markdown",
   "id": "d262dbbb",
   "metadata": {},
   "source": [
    "## Import libraries"
   ]
  },
  {
   "cell_type": "code",
   "execution_count": 1,
   "id": "35fceac3",
   "metadata": {
    "ExecuteTime": {
     "end_time": "2022-01-26T20:27:31.275217Z",
     "start_time": "2022-01-26T20:27:28.393188Z"
    }
   },
   "outputs": [],
   "source": [
    "## libraries\n",
    "import tensorflow as tf\n",
    "from keras.preprocessing.image import ImageDataGenerator\n",
    "from keras.models import Sequential, Model\n",
    "from keras.layers import Conv2D, MaxPooling2D\n",
    "from keras.layers import Activation, Dropout, Flatten, Dense\n",
    "from keras import applications\n",
    "import matplotlib.pyplot as plt"
   ]
  },
  {
   "cell_type": "markdown",
   "id": "276a25b0",
   "metadata": {},
   "source": [
    "## initialization"
   ]
  },
  {
   "cell_type": "code",
   "execution_count": 2,
   "id": "563009eb",
   "metadata": {
    "ExecuteTime": {
     "end_time": "2022-01-26T20:27:31.291220Z",
     "start_time": "2022-01-26T20:27:31.276218Z"
    }
   },
   "outputs": [],
   "source": [
    "model_weights = r'bottleneck_fc_model.h5'\n",
    "\n",
    "## image dimensions\n",
    "img_h, img_w = 150, 150\n",
    "\n",
    "## epochs\n",
    "epochs = 50\n",
    "\n",
    "## batch Size\n",
    "batch_size = 16\n",
    "\n",
    "## total no of train and validation samples\n",
    "nb_train_samples = 1700\n",
    "nb_validation_samples = 500\n",
    "\n",
    "## data set directory\n",
    "train_data_dir = r'..\\Data\\train'\n",
    "validation_data_dir = r'..\\Data\\validation'"
   ]
  },
  {
   "cell_type": "markdown",
   "id": "ecda7ccc",
   "metadata": {},
   "source": [
    "## Model"
   ]
  },
  {
   "cell_type": "code",
   "execution_count": 3,
   "id": "aecfafa2",
   "metadata": {
    "ExecuteTime": {
     "end_time": "2022-01-26T20:27:32.323476Z",
     "start_time": "2022-01-26T20:27:31.292220Z"
    }
   },
   "outputs": [
    {
     "name": "stdout",
     "output_type": "stream",
     "text": [
      "Model loaded.\n"
     ]
    }
   ],
   "source": [
    "## vgg16 network\n",
    "model = applications.vgg16.VGG16(include_top = False, weights = 'imagenet', input_shape=(150,150,3))\n",
    "print('Model loaded.')\n",
    "\n",
    "top_model = Sequential()\n",
    "top_model.add(Flatten(input_shape = model.output_shape[1:]))\n",
    "top_model.add(Dense(256, activation = 'relu'))\n",
    "top_model.add(Dropout(0.5))\n",
    "top_model.add(Dense(1, activation = 'sigmoid'))\n",
    "\n",
    "top_model.load_weights(model_weights)\n",
    "\n",
    "model = Model(inputs=model.input, outputs=top_model(model.output))\n",
    "\n",
    "for layer in model.layers[:15]:\n",
    "    layer.trainable = False\n",
    "    \n",
    "model.compile(loss = 'binary_crossentropy', \n",
    "             optimizer = tf.keras.optimizers.SGD(learning_rate = 1e-4, momentum = 0.9), \n",
    "             metrics = ['accuracy'])"
   ]
  },
  {
   "cell_type": "markdown",
   "id": "b1f9f36b",
   "metadata": {},
   "source": [
    "## Data Preprocessing"
   ]
  },
  {
   "cell_type": "code",
   "execution_count": 4,
   "id": "7d1f4c22",
   "metadata": {
    "ExecuteTime": {
     "end_time": "2022-01-26T20:27:32.417497Z",
     "start_time": "2022-01-26T20:27:32.325477Z"
    }
   },
   "outputs": [
    {
     "name": "stdout",
     "output_type": "stream",
     "text": [
      "Found 1700 images belonging to 2 classes.\n",
      "Found 500 images belonging to 2 classes.\n"
     ]
    }
   ],
   "source": [
    "## data augmentation\n",
    "train_datagen = ImageDataGenerator(rescale = 1./255, \n",
    "                                   shear_range = 0.3, \n",
    "                                   zoom_range = 0.2, \n",
    "                                   horizontal_flip = True, \n",
    "                                   rotation_range=20)\n",
    "\n",
    "test_datagen = ImageDataGenerator(rescale=1. / 255)\n",
    "\n",
    "## train data\n",
    "train_generator = train_datagen.flow_from_directory(train_data_dir,\n",
    "                                                    target_size=(img_w, img_h),\n",
    "                                                    batch_size=batch_size,\n",
    "                                                    class_mode='binary')\n",
    "\n",
    "## validation data\n",
    "validation_generator = test_datagen.flow_from_directory(validation_data_dir,\n",
    "                                                        target_size=(img_w, img_h),\n",
    "                                                        batch_size=batch_size,\n",
    "                                                        class_mode='binary')"
   ]
  },
  {
   "cell_type": "markdown",
   "id": "dfbe8dea",
   "metadata": {},
   "source": [
    "## Model Train/Validation"
   ]
  },
  {
   "cell_type": "code",
   "execution_count": 5,
   "id": "e098f0bc",
   "metadata": {
    "ExecuteTime": {
     "end_time": "2022-01-26T20:34:07.833713Z",
     "start_time": "2022-01-26T20:27:32.418496Z"
    },
    "scrolled": false
   },
   "outputs": [
    {
     "name": "stdout",
     "output_type": "stream",
     "text": [
      "Epoch 1/50\n",
      "107/107 [==============================] - 13s 80ms/step - loss: 0.4599 - accuracy: 0.8418 - val_loss: 0.3489 - val_accuracy: 0.8660\n",
      "Epoch 2/50\n",
      "107/107 [==============================] - 8s 73ms/step - loss: 0.2905 - accuracy: 0.8865 - val_loss: 0.3376 - val_accuracy: 0.8800\n",
      "Epoch 3/50\n",
      "107/107 [==============================] - 8s 72ms/step - loss: 0.2165 - accuracy: 0.9112 - val_loss: 0.3237 - val_accuracy: 0.8840\n",
      "Epoch 4/50\n",
      "107/107 [==============================] - 8s 73ms/step - loss: 0.2053 - accuracy: 0.9241 - val_loss: 0.3720 - val_accuracy: 0.8640\n",
      "Epoch 5/50\n",
      "107/107 [==============================] - 8s 77ms/step - loss: 0.1596 - accuracy: 0.9400 - val_loss: 0.4469 - val_accuracy: 0.8720\n",
      "Epoch 6/50\n",
      "107/107 [==============================] - 8s 73ms/step - loss: 0.1448 - accuracy: 0.9500 - val_loss: 0.3702 - val_accuracy: 0.8760\n",
      "Epoch 7/50\n",
      "107/107 [==============================] - 8s 78ms/step - loss: 0.1419 - accuracy: 0.9494 - val_loss: 0.3661 - val_accuracy: 0.8900\n",
      "Epoch 8/50\n",
      "107/107 [==============================] - 9s 81ms/step - loss: 0.1452 - accuracy: 0.9424 - val_loss: 0.4137 - val_accuracy: 0.8700\n",
      "Epoch 9/50\n",
      "107/107 [==============================] - 8s 76ms/step - loss: 0.1004 - accuracy: 0.9618 - val_loss: 0.4706 - val_accuracy: 0.8820\n",
      "Epoch 10/50\n",
      "107/107 [==============================] - 8s 72ms/step - loss: 0.1192 - accuracy: 0.9547 - val_loss: 0.4401 - val_accuracy: 0.8660\n",
      "Epoch 11/50\n",
      "107/107 [==============================] - 8s 72ms/step - loss: 0.0953 - accuracy: 0.9629 - val_loss: 0.4462 - val_accuracy: 0.8900\n",
      "Epoch 12/50\n",
      "107/107 [==============================] - 8s 74ms/step - loss: 0.0845 - accuracy: 0.9647 - val_loss: 0.4351 - val_accuracy: 0.8860\n",
      "Epoch 13/50\n",
      "107/107 [==============================] - 8s 75ms/step - loss: 0.0714 - accuracy: 0.9729 - val_loss: 0.4862 - val_accuracy: 0.8840\n",
      "Epoch 14/50\n",
      "107/107 [==============================] - 8s 72ms/step - loss: 0.0640 - accuracy: 0.9806 - val_loss: 0.5297 - val_accuracy: 0.8740\n",
      "Epoch 15/50\n",
      "107/107 [==============================] - 8s 72ms/step - loss: 0.0648 - accuracy: 0.9776 - val_loss: 0.5147 - val_accuracy: 0.8820\n",
      "Epoch 16/50\n",
      "107/107 [==============================] - 8s 72ms/step - loss: 0.0728 - accuracy: 0.9788 - val_loss: 0.4780 - val_accuracy: 0.8800\n",
      "Epoch 17/50\n",
      "107/107 [==============================] - 8s 72ms/step - loss: 0.0689 - accuracy: 0.9788 - val_loss: 0.4684 - val_accuracy: 0.8960\n",
      "Epoch 18/50\n",
      "107/107 [==============================] - 8s 72ms/step - loss: 0.0589 - accuracy: 0.9776 - val_loss: 0.5190 - val_accuracy: 0.8860\n",
      "Epoch 19/50\n",
      "107/107 [==============================] - 8s 72ms/step - loss: 0.0519 - accuracy: 0.9829 - val_loss: 0.5331 - val_accuracy: 0.8880\n",
      "Epoch 20/50\n",
      "107/107 [==============================] - 8s 73ms/step - loss: 0.0504 - accuracy: 0.9806 - val_loss: 0.4987 - val_accuracy: 0.8960\n",
      "Epoch 21/50\n",
      "107/107 [==============================] - 8s 72ms/step - loss: 0.0593 - accuracy: 0.9776 - val_loss: 0.5405 - val_accuracy: 0.8760\n",
      "Epoch 22/50\n",
      "107/107 [==============================] - 8s 71ms/step - loss: 0.0594 - accuracy: 0.9829 - val_loss: 0.5937 - val_accuracy: 0.8680\n",
      "Epoch 23/50\n",
      "107/107 [==============================] - 8s 72ms/step - loss: 0.0445 - accuracy: 0.9865 - val_loss: 0.6718 - val_accuracy: 0.8720\n",
      "Epoch 24/50\n",
      "107/107 [==============================] - 8s 72ms/step - loss: 0.0381 - accuracy: 0.9882 - val_loss: 0.7293 - val_accuracy: 0.8600\n",
      "Epoch 25/50\n",
      "107/107 [==============================] - 8s 72ms/step - loss: 0.0310 - accuracy: 0.9906 - val_loss: 0.5761 - val_accuracy: 0.8920\n",
      "Epoch 26/50\n",
      "107/107 [==============================] - 8s 72ms/step - loss: 0.0303 - accuracy: 0.9900 - val_loss: 0.6009 - val_accuracy: 0.8880\n",
      "Epoch 27/50\n",
      "107/107 [==============================] - 8s 72ms/step - loss: 0.0423 - accuracy: 0.9847 - val_loss: 0.5571 - val_accuracy: 0.8740\n",
      "Epoch 28/50\n",
      "107/107 [==============================] - 8s 72ms/step - loss: 0.0421 - accuracy: 0.9859 - val_loss: 0.5060 - val_accuracy: 0.9020\n",
      "Epoch 29/50\n",
      "107/107 [==============================] - 8s 72ms/step - loss: 0.0224 - accuracy: 0.9935 - val_loss: 0.5289 - val_accuracy: 0.8980\n",
      "Epoch 30/50\n",
      "107/107 [==============================] - 8s 71ms/step - loss: 0.0266 - accuracy: 0.9918 - val_loss: 0.6467 - val_accuracy: 0.8780\n",
      "Epoch 31/50\n",
      "107/107 [==============================] - 8s 72ms/step - loss: 0.0263 - accuracy: 0.9912 - val_loss: 0.5789 - val_accuracy: 0.8860\n",
      "Epoch 32/50\n",
      "107/107 [==============================] - 8s 72ms/step - loss: 0.0319 - accuracy: 0.9912 - val_loss: 0.6065 - val_accuracy: 0.8860\n",
      "Epoch 33/50\n",
      "107/107 [==============================] - 8s 72ms/step - loss: 0.0211 - accuracy: 0.9918 - val_loss: 0.5530 - val_accuracy: 0.8940\n",
      "Epoch 34/50\n",
      "107/107 [==============================] - 8s 72ms/step - loss: 0.0158 - accuracy: 0.9959 - val_loss: 0.5445 - val_accuracy: 0.8940\n",
      "Epoch 35/50\n",
      "107/107 [==============================] - 8s 72ms/step - loss: 0.0249 - accuracy: 0.9918 - val_loss: 0.5893 - val_accuracy: 0.8880\n",
      "Epoch 36/50\n",
      "107/107 [==============================] - 8s 72ms/step - loss: 0.0224 - accuracy: 0.9912 - val_loss: 0.5958 - val_accuracy: 0.8820\n",
      "Epoch 37/50\n",
      "107/107 [==============================] - 8s 72ms/step - loss: 0.0367 - accuracy: 0.9888 - val_loss: 0.5833 - val_accuracy: 0.8840\n",
      "Epoch 38/50\n",
      "107/107 [==============================] - 8s 71ms/step - loss: 0.0280 - accuracy: 0.9900 - val_loss: 0.5701 - val_accuracy: 0.8940\n",
      "Epoch 39/50\n",
      "107/107 [==============================] - 8s 72ms/step - loss: 0.0223 - accuracy: 0.9924 - val_loss: 0.6140 - val_accuracy: 0.8880\n",
      "Epoch 40/50\n",
      "107/107 [==============================] - 8s 73ms/step - loss: 0.0140 - accuracy: 0.9965 - val_loss: 0.5681 - val_accuracy: 0.9020\n",
      "Epoch 41/50\n",
      "107/107 [==============================] - 8s 71ms/step - loss: 0.0192 - accuracy: 0.9947 - val_loss: 0.6800 - val_accuracy: 0.8840\n",
      "Epoch 42/50\n",
      "107/107 [==============================] - 8s 72ms/step - loss: 0.0237 - accuracy: 0.9918 - val_loss: 0.6393 - val_accuracy: 0.8860\n",
      "Epoch 43/50\n",
      "107/107 [==============================] - 8s 71ms/step - loss: 0.0150 - accuracy: 0.9959 - val_loss: 0.5690 - val_accuracy: 0.8900\n",
      "Epoch 44/50\n",
      "107/107 [==============================] - 8s 72ms/step - loss: 0.0155 - accuracy: 0.9947 - val_loss: 0.6435 - val_accuracy: 0.8820\n",
      "Epoch 45/50\n",
      "107/107 [==============================] - 8s 72ms/step - loss: 0.0183 - accuracy: 0.9929 - val_loss: 0.6416 - val_accuracy: 0.8880\n",
      "Epoch 46/50\n",
      "107/107 [==============================] - 8s 71ms/step - loss: 0.0141 - accuracy: 0.9947 - val_loss: 0.6251 - val_accuracy: 0.8860\n",
      "Epoch 47/50\n",
      "107/107 [==============================] - 8s 74ms/step - loss: 0.0140 - accuracy: 0.9965 - val_loss: 0.6545 - val_accuracy: 0.8900\n",
      "Epoch 48/50\n",
      "107/107 [==============================] - 8s 75ms/step - loss: 0.0122 - accuracy: 0.9947 - val_loss: 0.6090 - val_accuracy: 0.9020\n",
      "Epoch 49/50\n",
      "107/107 [==============================] - 8s 72ms/step - loss: 0.0237 - accuracy: 0.9941 - val_loss: 0.7180 - val_accuracy: 0.8760\n",
      "Epoch 50/50\n",
      "107/107 [==============================] - 8s 72ms/step - loss: 0.0173 - accuracy: 0.9947 - val_loss: 0.5924 - val_accuracy: 0.8820\n"
     ]
    },
    {
     "data": {
      "image/png": "[encoded data removed]",
      "text/plain": [
       "<Figure size 432x288 with 1 Axes>"
      ]
     },
     "metadata": {
      "needs_background": "light"
     },
     "output_type": "display_data"
    },
    {
     "data": {
      "image/png": "[encoded data removed]",
      "text/plain": [
       "<Figure size 432x288 with 1 Axes>"
      ]
     },
     "metadata": {
      "needs_background": "light"
     },
     "output_type": "display_data"
    }
   ],
   "source": [
    "## training and testing model with the data set\n",
    "history = model.fit(train_generator,\n",
    "                    batch_size = batch_size,\n",
    "                    epochs = epochs,\n",
    "                    validation_data = validation_generator)\n",
    "\n",
    "## plot accuracy graph\n",
    "plt.plot(history.history['accuracy'])\n",
    "plt.plot(history.history['val_accuracy'])\n",
    "plt.title('Training and Validation accuracy')\n",
    "plt.legend(['accuracy','validation accuracy'])\n",
    "plt.xlabel('Epochs')\n",
    "plt.ylabel('Accuracy')\n",
    "plt.show()\n",
    "\n",
    "## plot loss graph\n",
    "plt.plot(history.history['loss'])\n",
    "plt.plot(history.history['val_loss'])\n",
    "plt.title('Training and Validation loss')\n",
    "plt.legend(['loss','validation loss'])\n",
    "plt.xlabel('Epochs')\n",
    "plt.ylabel('Loss')\n",
    "plt.show()"
   ]
  }
 ],
 "metadata": {
  "kernelspec": {
   "display_name": "Python 3 (ipykernel)",
   "language": "python",
   "name": "python3"
  },
  "language_info": {
   "codemirror_mode": {
    "name": "ipython",
    "version": 3
   },
   "file_extension": ".py",
   "mimetype": "text/x-python",
   "name": "python",
   "nbconvert_exporter": "python",
   "pygments_lexer": "ipython3",
   "version": "3.8.8"
  },
  "toc": {
   "base_numbering": 1,
   "nav_menu": {},
   "number_sections": true,
   "sideBar": true,
   "skip_h1_title": false,
   "title_cell": "Table of Contents",
   "title_sidebar": "Contents",
   "toc_cell": false,
   "toc_position": {},
   "toc_section_display": true,
   "toc_window_display": false
  },
  "varInspector": {
   "cols": {
    "lenName": 16,
    "lenType": 16,
    "lenVar": 40
   },
   "kernels_config": {
    "python": {
     "delete_cmd_postfix": "",
     "delete_cmd_prefix": "del ",
     "library": "var_list.py",
     "varRefreshCmd": "print(var_dic_list())"
    },
    "r": {
     "delete_cmd_postfix": ") ",
     "delete_cmd_prefix": "rm(",
     "library": "var_list.r",
     "varRefreshCmd": "cat(var_dic_list()) "
    }
   },
   "types_to_exclude": [
    "module",
    "function",
    "builtin_function_or_method",
    "instance",
    "_Feature"
   ],
   "window_display": false
  }
 },
 "nbformat": 4,
 "nbformat_minor": 5
}
