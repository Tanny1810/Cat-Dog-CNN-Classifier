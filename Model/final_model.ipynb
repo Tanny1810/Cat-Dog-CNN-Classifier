{
 "cells": [
  {
   "cell_type": "markdown",
   "id": "eed9655b",
   "metadata": {},
   "source": [
    "# Combining model and VGG16 to fine tune the model "
   ]
  },
  {
   "cell_type": "markdown",
   "id": "4f6e16af",
   "metadata": {},
   "source": [
    "## Import libraries"
   ]
  },
  {
   "cell_type": "code",
   "execution_count": 1,
   "id": "ad694125",
   "metadata": {
    "ExecuteTime": {
     "end_time": "2022-01-26T20:15:06.051751Z",
     "start_time": "2022-01-26T20:15:03.161892Z"
    }
   },
   "outputs": [],
   "source": [
    "## libraries\n",
    "import tensorflow as tf\n",
    "from keras.preprocessing.image import ImageDataGenerator\n",
    "from keras.models import Sequential, Model\n",
    "from keras.layers import Conv2D, MaxPooling2D\n",
    "from keras.layers import Activation, Dropout, Flatten, Dense\n",
    "from keras import applications\n",
    "import matplotlib.pyplot as plt"
   ]
  },
  {
   "cell_type": "markdown",
   "id": "d7c9cbb6",
   "metadata": {},
   "source": [
    "## initialization"
   ]
  },
  {
   "cell_type": "code",
   "execution_count": 2,
   "id": "9ba8d541",
   "metadata": {
    "ExecuteTime": {
     "end_time": "2022-01-26T20:15:06.067755Z",
     "start_time": "2022-01-26T20:15:06.052752Z"
    }
   },
   "outputs": [],
   "source": [
    "model_weights = r'bottleneck_fc_model.h5'\n",
    "\n",
    "## image dimensions\n",
    "img_h, img_w = 150, 150\n",
    "\n",
    "## epochs\n",
    "epochs = 50\n",
    "\n",
    "## batch Size\n",
    "batch_size = 16\n",
    "\n",
    "## total no of train and validation samples\n",
    "nb_train_samples = 1700\n",
    "nb_validation_samples = 500\n",
    "\n",
    "## data set directory\n",
    "train_data_dir = r'..\\Data\\train'\n",
    "validation_data_dir = r'..\\Data\\validation'"
   ]
  },
  {
   "cell_type": "markdown",
   "id": "44af71a0",
   "metadata": {},
   "source": [
    "## Model"
   ]
  },
  {
   "cell_type": "code",
   "execution_count": 3,
   "id": "a18147a2",
   "metadata": {
    "ExecuteTime": {
     "end_time": "2022-01-26T20:15:07.103945Z",
     "start_time": "2022-01-26T20:15:06.068756Z"
    }
   },
   "outputs": [
    {
     "name": "stdout",
     "output_type": "stream",
     "text": [
      "Model loaded.\n"
     ]
    }
   ],
   "source": [
    "## vgg16 network\n",
    "model = applications.vgg16.VGG16(include_top = False, weights = 'imagenet', input_shape=(150,150,3))\n",
    "print('Model loaded.')\n",
    "\n",
    "top_model = Sequential()\n",
    "top_model.add(Flatten(input_shape = model.output_shape[1:]))\n",
    "top_model.add(Dense(256, activation = 'relu'))\n",
    "top_model.add(Dropout(0.5))\n",
    "top_model.add(Dense(1, activation = 'sigmoid'))\n",
    "\n",
    "top_model.load_weights(model_weights)\n",
    "\n",
    "model = Model(inputs=model.input, outputs=top_model(model.output))\n",
    "\n",
    "for layer in model.layers[:15]:\n",
    "    layer.trainable = False\n",
    "    \n",
    "model.compile(loss = 'binary_crossentropy', \n",
    "             optimizer = tf.keras.optimizers.SGD(learning_rate = 1e-4, momentum = 0.9), \n",
    "             metrics = ['accuracy'])"
   ]
  },
  {
   "cell_type": "markdown",
   "id": "5d93308d",
   "metadata": {},
   "source": [
    "## Data Preprocessing"
   ]
  },
  {
   "cell_type": "code",
   "execution_count": 4,
   "id": "3f51cc65",
   "metadata": {
    "ExecuteTime": {
     "end_time": "2022-01-26T20:15:07.199967Z",
     "start_time": "2022-01-26T20:15:07.105946Z"
    }
   },
   "outputs": [
    {
     "name": "stdout",
     "output_type": "stream",
     "text": [
      "Found 1700 images belonging to 2 classes.\n",
      "Found 500 images belonging to 2 classes.\n"
     ]
    }
   ],
   "source": [
    "## data augmentation\n",
    "train_datagen = ImageDataGenerator(rescale = 1./255, \n",
    "                                   shear_range = 0.3, \n",
    "                                   zoom_range = 0.2, \n",
    "                                   horizontal_flip = True)\n",
    "\n",
    "test_datagen = ImageDataGenerator(rescale=1. / 255)\n",
    "\n",
    "## train data\n",
    "train_generator = train_datagen.flow_from_directory(train_data_dir,\n",
    "                                                    target_size=(img_w, img_h),\n",
    "                                                    batch_size=batch_size,\n",
    "                                                    class_mode='binary')\n",
    "\n",
    "## validation data\n",
    "validation_generator = test_datagen.flow_from_directory(validation_data_dir,\n",
    "                                                        target_size=(img_w, img_h),\n",
    "                                                        batch_size=batch_size,\n",
    "                                                        class_mode='binary')"
   ]
  },
  {
   "cell_type": "markdown",
   "id": "a1338895",
   "metadata": {},
   "source": [
    "## Model Train/Validation"
   ]
  },
  {
   "cell_type": "code",
   "execution_count": 5,
   "id": "1882202d",
   "metadata": {
    "ExecuteTime": {
     "end_time": "2022-01-26T20:21:47.750790Z",
     "start_time": "2022-01-26T20:15:07.200967Z"
    },
    "scrolled": false
   },
   "outputs": [
    {
     "name": "stdout",
     "output_type": "stream",
     "text": [
      "Epoch 1/50\n",
      "107/107 [==============================] - 12s 79ms/step - loss: 0.3862 - accuracy: 0.8735 - val_loss: 0.3982 - val_accuracy: 0.8380\n",
      "Epoch 2/50\n",
      "107/107 [==============================] - 8s 76ms/step - loss: 0.2169 - accuracy: 0.9129 - val_loss: 0.3665 - val_accuracy: 0.8560\n",
      "Epoch 3/50\n",
      "107/107 [==============================] - 8s 73ms/step - loss: 0.1574 - accuracy: 0.9335 - val_loss: 0.3806 - val_accuracy: 0.8700\n",
      "Epoch 4/50\n",
      "107/107 [==============================] - 8s 75ms/step - loss: 0.1439 - accuracy: 0.9500 - val_loss: 0.3803 - val_accuracy: 0.8680\n",
      "Epoch 5/50\n",
      "107/107 [==============================] - 8s 74ms/step - loss: 0.1457 - accuracy: 0.9488 - val_loss: 0.4058 - val_accuracy: 0.8620\n",
      "Epoch 6/50\n",
      "107/107 [==============================] - 8s 71ms/step - loss: 0.1081 - accuracy: 0.9594 - val_loss: 0.4418 - val_accuracy: 0.8700\n",
      "Epoch 7/50\n",
      "107/107 [==============================] - 8s 72ms/step - loss: 0.0982 - accuracy: 0.9653 - val_loss: 0.4111 - val_accuracy: 0.8740\n",
      "Epoch 8/50\n",
      "107/107 [==============================] - 8s 75ms/step - loss: 0.0721 - accuracy: 0.9741 - val_loss: 0.4599 - val_accuracy: 0.8660\n",
      "Epoch 9/50\n",
      "107/107 [==============================] - 8s 75ms/step - loss: 0.0702 - accuracy: 0.9759 - val_loss: 0.5246 - val_accuracy: 0.8600\n",
      "Epoch 10/50\n",
      "107/107 [==============================] - 8s 76ms/step - loss: 0.0745 - accuracy: 0.9735 - val_loss: 0.4508 - val_accuracy: 0.8800\n",
      "Epoch 11/50\n",
      "107/107 [==============================] - 8s 73ms/step - loss: 0.0485 - accuracy: 0.9859 - val_loss: 0.4292 - val_accuracy: 0.8800\n",
      "Epoch 12/50\n",
      "107/107 [==============================] - 8s 75ms/step - loss: 0.0558 - accuracy: 0.9812 - val_loss: 0.4798 - val_accuracy: 0.8840\n",
      "Epoch 13/50\n",
      "107/107 [==============================] - 8s 73ms/step - loss: 0.0676 - accuracy: 0.9794 - val_loss: 0.4741 - val_accuracy: 0.8800\n",
      "Epoch 14/50\n",
      "107/107 [==============================] - 8s 74ms/step - loss: 0.0445 - accuracy: 0.9865 - val_loss: 0.5244 - val_accuracy: 0.8760\n",
      "Epoch 15/50\n",
      "107/107 [==============================] - 8s 73ms/step - loss: 0.0345 - accuracy: 0.9894 - val_loss: 0.5910 - val_accuracy: 0.8600\n",
      "Epoch 16/50\n",
      "107/107 [==============================] - 8s 72ms/step - loss: 0.0319 - accuracy: 0.9894 - val_loss: 0.5463 - val_accuracy: 0.8800\n",
      "Epoch 17/50\n",
      "107/107 [==============================] - 8s 72ms/step - loss: 0.0269 - accuracy: 0.9912 - val_loss: 0.5403 - val_accuracy: 0.8840\n",
      "Epoch 18/50\n",
      "107/107 [==============================] - 8s 73ms/step - loss: 0.0193 - accuracy: 0.9941 - val_loss: 0.5894 - val_accuracy: 0.8800\n",
      "Epoch 19/50\n",
      "107/107 [==============================] - 8s 75ms/step - loss: 0.0290 - accuracy: 0.9894 - val_loss: 0.6103 - val_accuracy: 0.8800\n",
      "Epoch 20/50\n",
      "107/107 [==============================] - 8s 74ms/step - loss: 0.0285 - accuracy: 0.9906 - val_loss: 0.5086 - val_accuracy: 0.8900\n",
      "Epoch 21/50\n",
      "107/107 [==============================] - 8s 72ms/step - loss: 0.0397 - accuracy: 0.9894 - val_loss: 0.6790 - val_accuracy: 0.8660\n",
      "Epoch 22/50\n",
      "107/107 [==============================] - 8s 73ms/step - loss: 0.0320 - accuracy: 0.9906 - val_loss: 0.4669 - val_accuracy: 0.8800\n",
      "Epoch 23/50\n",
      "107/107 [==============================] - 8s 71ms/step - loss: 0.0151 - accuracy: 0.9965 - val_loss: 0.5011 - val_accuracy: 0.8880\n",
      "Epoch 24/50\n",
      "107/107 [==============================] - 8s 73ms/step - loss: 0.0178 - accuracy: 0.9959 - val_loss: 0.5557 - val_accuracy: 0.8880\n",
      "Epoch 25/50\n",
      "107/107 [==============================] - 8s 77ms/step - loss: 0.0125 - accuracy: 0.9971 - val_loss: 0.6443 - val_accuracy: 0.8740\n",
      "Epoch 26/50\n",
      "107/107 [==============================] - 8s 78ms/step - loss: 0.0138 - accuracy: 0.9953 - val_loss: 0.6007 - val_accuracy: 0.8880\n",
      "Epoch 27/50\n",
      "107/107 [==============================] - 8s 78ms/step - loss: 0.0098 - accuracy: 0.9976 - val_loss: 0.6698 - val_accuracy: 0.8840\n",
      "Epoch 28/50\n",
      "107/107 [==============================] - 8s 74ms/step - loss: 0.0191 - accuracy: 0.9953 - val_loss: 0.7516 - val_accuracy: 0.8660\n",
      "Epoch 29/50\n",
      "107/107 [==============================] - 8s 72ms/step - loss: 0.0073 - accuracy: 1.0000 - val_loss: 0.6653 - val_accuracy: 0.8860\n",
      "Epoch 30/50\n",
      "107/107 [==============================] - 8s 71ms/step - loss: 0.0180 - accuracy: 0.9959 - val_loss: 0.6578 - val_accuracy: 0.8660\n",
      "Epoch 31/50\n",
      "107/107 [==============================] - 8s 71ms/step - loss: 0.0169 - accuracy: 0.9941 - val_loss: 0.7055 - val_accuracy: 0.8660\n",
      "Epoch 32/50\n",
      "107/107 [==============================] - 8s 71ms/step - loss: 0.0185 - accuracy: 0.9953 - val_loss: 0.6314 - val_accuracy: 0.8740\n",
      "Epoch 33/50\n",
      "107/107 [==============================] - 8s 72ms/step - loss: 0.0079 - accuracy: 0.9982 - val_loss: 0.6409 - val_accuracy: 0.8800\n",
      "Epoch 34/50\n",
      "107/107 [==============================] - 8s 74ms/step - loss: 0.0091 - accuracy: 0.9971 - val_loss: 0.6554 - val_accuracy: 0.8700\n",
      "Epoch 35/50\n",
      "107/107 [==============================] - 8s 72ms/step - loss: 0.0189 - accuracy: 0.9924 - val_loss: 0.6626 - val_accuracy: 0.8680\n",
      "Epoch 36/50\n",
      "107/107 [==============================] - 8s 74ms/step - loss: 0.0126 - accuracy: 0.9959 - val_loss: 0.6814 - val_accuracy: 0.8740\n",
      "Epoch 37/50\n",
      "107/107 [==============================] - 8s 74ms/step - loss: 0.0135 - accuracy: 0.9965 - val_loss: 0.5471 - val_accuracy: 0.8800\n",
      "Epoch 38/50\n",
      "107/107 [==============================] - 8s 75ms/step - loss: 0.0140 - accuracy: 0.9959 - val_loss: 0.5873 - val_accuracy: 0.8880\n",
      "Epoch 39/50\n",
      "107/107 [==============================] - 8s 74ms/step - loss: 0.0133 - accuracy: 0.9976 - val_loss: 0.5964 - val_accuracy: 0.8860\n",
      "Epoch 40/50\n",
      "107/107 [==============================] - 8s 72ms/step - loss: 0.0056 - accuracy: 0.9988 - val_loss: 0.6394 - val_accuracy: 0.8740\n",
      "Epoch 41/50\n",
      "107/107 [==============================] - 8s 75ms/step - loss: 0.0090 - accuracy: 0.9971 - val_loss: 0.6588 - val_accuracy: 0.8700\n",
      "Epoch 42/50\n",
      "107/107 [==============================] - 8s 74ms/step - loss: 0.0070 - accuracy: 0.9982 - val_loss: 0.6432 - val_accuracy: 0.8800\n",
      "Epoch 43/50\n",
      "107/107 [==============================] - 8s 73ms/step - loss: 0.0134 - accuracy: 0.9959 - val_loss: 0.6115 - val_accuracy: 0.8880\n",
      "Epoch 44/50\n",
      "107/107 [==============================] - 8s 74ms/step - loss: 0.0103 - accuracy: 0.9959 - val_loss: 0.6129 - val_accuracy: 0.8740\n",
      "Epoch 45/50\n",
      "107/107 [==============================] - 8s 79ms/step - loss: 0.0121 - accuracy: 0.9959 - val_loss: 0.5878 - val_accuracy: 0.8720\n",
      "Epoch 46/50\n",
      "107/107 [==============================] - 8s 76ms/step - loss: 0.0150 - accuracy: 0.9959 - val_loss: 0.5314 - val_accuracy: 0.8880\n",
      "Epoch 47/50\n",
      "107/107 [==============================] - 8s 72ms/step - loss: 0.0122 - accuracy: 0.9953 - val_loss: 0.5036 - val_accuracy: 0.8840\n",
      "Epoch 48/50\n",
      "107/107 [==============================] - 8s 71ms/step - loss: 0.0088 - accuracy: 0.9976 - val_loss: 0.5856 - val_accuracy: 0.8820\n",
      "Epoch 49/50\n",
      "107/107 [==============================] - 8s 72ms/step - loss: 0.0054 - accuracy: 0.9988 - val_loss: 0.6487 - val_accuracy: 0.8780\n",
      "Epoch 50/50\n",
      "107/107 [==============================] - 8s 72ms/step - loss: 0.0148 - accuracy: 0.9941 - val_loss: 0.6430 - val_accuracy: 0.8780\n"
     ]
    },
    {
     "data": {
      "image/png": "[encoded data removed]",
      "text/plain": [
       "<Figure size 432x288 with 1 Axes>"
      ]
     },
     "metadata": {
      "needs_background": "light"
     },
     "output_type": "display_data"
    },
    {
     "data": {
      "image/png": "[encoded data removed]",
      "text/plain": [
       "<Figure size 432x288 with 1 Axes>"
      ]
     },
     "metadata": {
      "needs_background": "light"
     },
     "output_type": "display_data"
    }
   ],
   "source": [
    "## training and testing model with the data set\n",
    "history = model.fit(train_generator,\n",
    "                    batch_size = batch_size,\n",
    "                    epochs = epochs,\n",
    "                    validation_data = validation_generator)\n",
    "\n",
    "## plot accuracy graph\n",
    "plt.plot(history.history['accuracy'])\n",
    "plt.plot(history.history['val_accuracy'])\n",
    "plt.title('Training and Validation accuracy')\n",
    "plt.legend(['accuracy','validation accuracy'])\n",
    "plt.xlabel('Epochs')\n",
    "plt.ylabel('Accuracy')\n",
    "plt.show()\n",
    "\n",
    "## plot loss graph\n",
    "plt.plot(history.history['loss'])\n",
    "plt.plot(history.history['val_loss'])\n",
    "plt.title('Training and Validation loss')\n",
    "plt.legend(['loss','validation loss'])\n",
    "plt.xlabel('Epochs')\n",
    "plt.ylabel('Loss')\n",
    "plt.show()"
   ]
  }
 ],
 "metadata": {
  "kernelspec": {
   "display_name": "Python 3 (ipykernel)",
   "language": "python",
   "name": "python3"
  },
  "language_info": {
   "codemirror_mode": {
    "name": "ipython",
    "version": 3
   },
   "file_extension": ".py",
   "mimetype": "text/x-python",
   "name": "python",
   "nbconvert_exporter": "python",
   "pygments_lexer": "ipython3",
   "version": "3.8.8"
  },
  "toc": {
   "base_numbering": 1,
   "nav_menu": {},
   "number_sections": true,
   "sideBar": true,
   "skip_h1_title": false,
   "title_cell": "Table of Contents",
   "title_sidebar": "Contents",
   "toc_cell": false,
   "toc_position": {},
   "toc_section_display": true,
   "toc_window_display": false
  },
  "varInspector": {
   "cols": {
    "lenName": 16,
    "lenType": 16,
    "lenVar": 40
   },
   "kernels_config": {
    "python": {
     "delete_cmd_postfix": "",
     "delete_cmd_prefix": "del ",
     "library": "var_list.py",
     "varRefreshCmd": "print(var_dic_list())"
    },
    "r": {
     "delete_cmd_postfix": ") ",
     "delete_cmd_prefix": "rm(",
     "library": "var_list.r",
     "varRefreshCmd": "cat(var_dic_list()) "
    }
   },
   "types_to_exclude": [
    "module",
    "function",
    "builtin_function_or_method",
    "instance",
    "_Feature"
   ],
   "window_display": false
  }
 },
 "nbformat": 4,
 "nbformat_minor": 5
}
