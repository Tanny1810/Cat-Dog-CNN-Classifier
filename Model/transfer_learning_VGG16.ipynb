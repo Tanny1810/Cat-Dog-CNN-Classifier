{
 "cells": [
  {
   "cell_type": "markdown",
   "id": "91d7d35c",
   "metadata": {},
   "source": [
    "## Import libraries"
   ]
  },
  {
   "cell_type": "code",
   "execution_count": 8,
   "id": "5a1ee97f",
   "metadata": {
    "ExecuteTime": {
     "end_time": "2022-01-25T21:25:46.134934Z",
     "start_time": "2022-01-25T21:25:46.117929Z"
    }
   },
   "outputs": [],
   "source": [
    "## importing libraries\n",
    "import tensorflow as tf\n",
    "import numpy as np\n",
    "from keras.preprocessing.image import ImageDataGenerator\n",
    "from keras.models import Sequential\n",
    "from keras.layers import Conv2D, MaxPooling2D\n",
    "from keras.layers import Activation, Dropout, Flatten, Dense\n",
    "from keras import applications\n",
    "import matplotlib.pyplot as plt"
   ]
  },
  {
   "cell_type": "markdown",
   "id": "130283a7",
   "metadata": {},
   "source": [
    "## Initialization"
   ]
  },
  {
   "cell_type": "code",
   "execution_count": 9,
   "id": "4692dc47",
   "metadata": {
    "ExecuteTime": {
     "end_time": "2022-01-25T21:25:46.725071Z",
     "start_time": "2022-01-25T21:25:46.720071Z"
    }
   },
   "outputs": [],
   "source": [
    "## image dimensions\n",
    "img_h, img_w = 150, 150\n",
    "\n",
    "## epochs\n",
    "epochs = 50\n",
    "\n",
    "## batch Size\n",
    "batch_size = 16\n",
    "\n",
    "## total no of train and validation samples\n",
    "nb_train_samples = 1700\n",
    "nb_validation_samples = 500\n",
    "\n",
    "## data set directory\n",
    "train_data_dir = r'..\\Data\\train'\n",
    "validation_data_dir = r'..\\Data\\validation'\n",
    "\n",
    "## weights of VGG16\n",
    "top_model_weights_path = r'bottleneck_fc_model.h5'"
   ]
  },
  {
   "cell_type": "markdown",
   "id": "5140914c",
   "metadata": {},
   "source": [
    "## Record bottleneck features"
   ]
  },
  {
   "cell_type": "code",
   "execution_count": 10,
   "id": "12e83b9d",
   "metadata": {
    "ExecuteTime": {
     "end_time": "2022-01-25T21:25:54.654879Z",
     "start_time": "2022-01-25T21:25:47.329222Z"
    }
   },
   "outputs": [
    {
     "name": "stdout",
     "output_type": "stream",
     "text": [
      "Found 1700 images belonging to 2 classes.\n",
      "Found 500 images belonging to 2 classes.\n"
     ]
    }
   ],
   "source": [
    "## data augmentation\n",
    "datagen = ImageDataGenerator(rescale=1./255)\n",
    "\n",
    "## VGG16 model\n",
    "model = applications.vgg16.VGG16(include_top = False, weights = 'imagenet')\n",
    "\n",
    "## train data\n",
    "generator = datagen.flow_from_directory(train_data_dir, \n",
    "                                        target_size = (img_h, img_w), \n",
    "                                        batch_size = batch_size, \n",
    "                                        class_mode = None, \n",
    "                                        shuffle = False)\n",
    "\n",
    "bottleneck_features_train = model.predict(generator, nb_train_samples // batch_size)\n",
    "\n",
    "np.save(open('bottleneck_features_train.npy', 'wb'), bottleneck_features_train)\n",
    "\n",
    "## validation data\n",
    "generator = datagen.flow_from_directory(validation_data_dir, \n",
    "                                        target_size = (img_h, img_w), \n",
    "                                        batch_size = batch_size, \n",
    "                                        class_mode = None, \n",
    "                                        shuffle = False)\n",
    "\n",
    "bottleneck_features_validation = model.predict(generator, nb_validation_samples // batch_size)\n",
    "\n",
    "np.save(open('bottleneck_features_validation.npy', 'wb'), bottleneck_features_validation)"
   ]
  },
  {
   "cell_type": "markdown",
   "id": "518bd71e",
   "metadata": {},
   "source": [
    "## Model"
   ]
  },
  {
   "cell_type": "code",
   "execution_count": 15,
   "id": "4756c676",
   "metadata": {
    "ExecuteTime": {
     "end_time": "2022-01-25T21:50:41.912133Z",
     "start_time": "2022-01-25T21:50:41.827114Z"
    }
   },
   "outputs": [],
   "source": [
    "## loading train data and creating train labels\n",
    "train_data = np.load(open('bottleneck_features_train.npy', 'rb'))\n",
    "train_labels = np.array([0] * int(nb_train_samples / 2) + [1] * int(nb_train_samples / 2))\n",
    "\n",
    "## loading validation data and creating validation labels\n",
    "validation_data = np.load(open('bottleneck_features_validation.npy', 'rb'))\n",
    "validation_labels = np.array([0] * int(nb_validation_samples / 2) + [1] * int(nb_validation_samples / 2))\n",
    "\n",
    "## model type\n",
    "model = Sequential()\n",
    "\n",
    "## hidden layer\n",
    "model.add(Flatten(input_shape = train_data.shape[1:]))\n",
    "model.add(Dense(256, activation = 'relu'))\n",
    "model.add(Dropout(0.4))\n",
    "model.add(Dense(1, activation = 'sigmoid'))\n",
    "\n",
    "## compile model\n",
    "model.compile(optimizer = 'adam',\n",
    "             loss = 'binary_crossentropy',\n",
    "             metrics=['accuracy'])"
   ]
  },
  {
   "cell_type": "markdown",
   "id": "14258656",
   "metadata": {},
   "source": [
    "## Train"
   ]
  },
  {
   "cell_type": "code",
   "execution_count": 16,
   "id": "2bb7b493",
   "metadata": {
    "ExecuteTime": {
     "end_time": "2022-01-25T21:50:57.402631Z",
     "start_time": "2022-01-25T21:50:42.572569Z"
    },
    "scrolled": false
   },
   "outputs": [
    {
     "name": "stdout",
     "output_type": "stream",
     "text": [
      "Epoch 1/50\n",
      "107/107 [==============================] - 1s 5ms/step - loss: 0.6357 - accuracy: 0.7282 - val_loss: 0.3585 - val_accuracy: 0.8420\n",
      "Epoch 2/50\n",
      "107/107 [==============================] - 0s 3ms/step - loss: 0.3487 - accuracy: 0.8441 - val_loss: 0.3455 - val_accuracy: 0.8640\n",
      "Epoch 3/50\n",
      "107/107 [==============================] - 0s 3ms/step - loss: 0.2632 - accuracy: 0.8824 - val_loss: 0.3163 - val_accuracy: 0.8480\n",
      "Epoch 4/50\n",
      "107/107 [==============================] - 0s 3ms/step - loss: 0.2163 - accuracy: 0.9059 - val_loss: 0.4837 - val_accuracy: 0.7920\n",
      "Epoch 5/50\n",
      "107/107 [==============================] - 0s 2ms/step - loss: 0.1764 - accuracy: 0.9300 - val_loss: 0.3421 - val_accuracy: 0.8500\n",
      "Epoch 6/50\n",
      "107/107 [==============================] - 0s 2ms/step - loss: 0.1528 - accuracy: 0.9335 - val_loss: 0.5315 - val_accuracy: 0.8100\n",
      "Epoch 7/50\n",
      "107/107 [==============================] - 0s 2ms/step - loss: 0.1710 - accuracy: 0.9253 - val_loss: 0.3673 - val_accuracy: 0.8440\n",
      "Epoch 8/50\n",
      "107/107 [==============================] - 0s 2ms/step - loss: 0.1068 - accuracy: 0.9588 - val_loss: 0.5025 - val_accuracy: 0.8240\n",
      "Epoch 9/50\n",
      "107/107 [==============================] - 0s 3ms/step - loss: 0.1168 - accuracy: 0.9582 - val_loss: 0.3870 - val_accuracy: 0.8520\n",
      "Epoch 10/50\n",
      "107/107 [==============================] - 0s 3ms/step - loss: 0.0634 - accuracy: 0.9806 - val_loss: 0.4301 - val_accuracy: 0.8440\n",
      "Epoch 11/50\n",
      "107/107 [==============================] - 0s 3ms/step - loss: 0.0602 - accuracy: 0.9812 - val_loss: 0.4365 - val_accuracy: 0.8420\n",
      "Epoch 12/50\n",
      "107/107 [==============================] - 0s 2ms/step - loss: 0.0588 - accuracy: 0.9835 - val_loss: 0.4384 - val_accuracy: 0.8580\n",
      "Epoch 13/50\n",
      "107/107 [==============================] - 0s 2ms/step - loss: 0.0480 - accuracy: 0.9841 - val_loss: 0.4990 - val_accuracy: 0.8460\n",
      "Epoch 14/50\n",
      "107/107 [==============================] - 0s 2ms/step - loss: 0.0346 - accuracy: 0.9888 - val_loss: 0.4979 - val_accuracy: 0.8500\n",
      "Epoch 15/50\n",
      "107/107 [==============================] - 0s 3ms/step - loss: 0.0353 - accuracy: 0.9894 - val_loss: 0.4857 - val_accuracy: 0.8440\n",
      "Epoch 16/50\n",
      "107/107 [==============================] - 0s 3ms/step - loss: 0.0267 - accuracy: 0.9953 - val_loss: 0.5421 - val_accuracy: 0.8440\n",
      "Epoch 17/50\n",
      "107/107 [==============================] - 0s 2ms/step - loss: 0.0225 - accuracy: 0.9941 - val_loss: 0.5202 - val_accuracy: 0.8500\n",
      "Epoch 18/50\n",
      "107/107 [==============================] - 0s 2ms/step - loss: 0.0161 - accuracy: 0.9965 - val_loss: 0.5743 - val_accuracy: 0.8540\n",
      "Epoch 19/50\n",
      "107/107 [==============================] - 0s 2ms/step - loss: 0.0111 - accuracy: 0.9976 - val_loss: 0.6046 - val_accuracy: 0.8600\n",
      "Epoch 20/50\n",
      "107/107 [==============================] - 0s 2ms/step - loss: 0.0115 - accuracy: 0.9976 - val_loss: 0.6684 - val_accuracy: 0.8420\n",
      "Epoch 21/50\n",
      "107/107 [==============================] - 0s 2ms/step - loss: 0.0120 - accuracy: 0.9982 - val_loss: 0.6818 - val_accuracy: 0.8440\n",
      "Epoch 22/50\n",
      "107/107 [==============================] - 0s 2ms/step - loss: 0.0288 - accuracy: 0.9906 - val_loss: 0.7034 - val_accuracy: 0.8360\n",
      "Epoch 23/50\n",
      "107/107 [==============================] - 0s 2ms/step - loss: 0.0217 - accuracy: 0.9935 - val_loss: 0.6656 - val_accuracy: 0.8440\n",
      "Epoch 24/50\n",
      "107/107 [==============================] - 0s 3ms/step - loss: 0.0305 - accuracy: 0.9900 - val_loss: 0.6106 - val_accuracy: 0.8280\n",
      "Epoch 25/50\n",
      "107/107 [==============================] - 0s 3ms/step - loss: 0.0496 - accuracy: 0.9788 - val_loss: 0.6332 - val_accuracy: 0.8320\n",
      "Epoch 26/50\n",
      "107/107 [==============================] - 0s 3ms/step - loss: 0.0714 - accuracy: 0.9706 - val_loss: 0.7193 - val_accuracy: 0.8320\n",
      "Epoch 27/50\n",
      "107/107 [==============================] - 0s 3ms/step - loss: 0.0409 - accuracy: 0.9876 - val_loss: 0.5595 - val_accuracy: 0.8380\n",
      "Epoch 28/50\n",
      "107/107 [==============================] - 0s 3ms/step - loss: 0.0380 - accuracy: 0.9871 - val_loss: 0.6532 - val_accuracy: 0.8460\n",
      "Epoch 29/50\n",
      "107/107 [==============================] - 0s 3ms/step - loss: 0.0694 - accuracy: 0.9729 - val_loss: 0.7379 - val_accuracy: 0.8160\n",
      "Epoch 30/50\n",
      "107/107 [==============================] - 0s 3ms/step - loss: 0.0444 - accuracy: 0.9835 - val_loss: 0.6763 - val_accuracy: 0.8500\n",
      "Epoch 31/50\n",
      "107/107 [==============================] - 0s 3ms/step - loss: 0.0273 - accuracy: 0.9900 - val_loss: 0.7163 - val_accuracy: 0.8220\n",
      "Epoch 32/50\n",
      "107/107 [==============================] - 0s 3ms/step - loss: 0.0220 - accuracy: 0.9947 - val_loss: 0.7270 - val_accuracy: 0.8540\n",
      "Epoch 33/50\n",
      "107/107 [==============================] - 0s 3ms/step - loss: 0.0171 - accuracy: 0.9935 - val_loss: 0.7598 - val_accuracy: 0.8400\n",
      "Epoch 34/50\n",
      "107/107 [==============================] - 0s 3ms/step - loss: 0.0169 - accuracy: 0.9959 - val_loss: 0.6945 - val_accuracy: 0.8500\n",
      "Epoch 35/50\n",
      "107/107 [==============================] - 0s 3ms/step - loss: 0.0167 - accuracy: 0.9941 - val_loss: 0.6575 - val_accuracy: 0.8540\n",
      "Epoch 36/50\n",
      "107/107 [==============================] - 0s 3ms/step - loss: 0.0162 - accuracy: 0.9959 - val_loss: 0.6930 - val_accuracy: 0.8480\n",
      "Epoch 37/50\n",
      "107/107 [==============================] - 0s 3ms/step - loss: 0.0439 - accuracy: 0.9818 - val_loss: 0.6876 - val_accuracy: 0.8560\n",
      "Epoch 38/50\n",
      "107/107 [==============================] - 0s 3ms/step - loss: 0.0485 - accuracy: 0.9818 - val_loss: 0.6711 - val_accuracy: 0.8480\n",
      "Epoch 39/50\n",
      "107/107 [==============================] - 0s 3ms/step - loss: 0.0270 - accuracy: 0.9894 - val_loss: 0.7813 - val_accuracy: 0.8440\n",
      "Epoch 40/50\n",
      "107/107 [==============================] - 0s 3ms/step - loss: 0.0109 - accuracy: 0.9965 - val_loss: 0.8094 - val_accuracy: 0.8500\n",
      "Epoch 41/50\n",
      "107/107 [==============================] - 0s 3ms/step - loss: 0.0094 - accuracy: 0.9971 - val_loss: 0.8060 - val_accuracy: 0.8540\n",
      "Epoch 42/50\n",
      "107/107 [==============================] - 0s 3ms/step - loss: 0.0276 - accuracy: 0.9888 - val_loss: 0.6739 - val_accuracy: 0.8440\n",
      "Epoch 43/50\n",
      "107/107 [==============================] - 0s 3ms/step - loss: 0.0795 - accuracy: 0.9682 - val_loss: 0.7498 - val_accuracy: 0.8580\n",
      "Epoch 44/50\n",
      "107/107 [==============================] - 0s 3ms/step - loss: 0.0417 - accuracy: 0.9829 - val_loss: 0.6099 - val_accuracy: 0.8580\n",
      "Epoch 45/50\n",
      "107/107 [==============================] - 0s 3ms/step - loss: 0.0222 - accuracy: 0.9929 - val_loss: 0.6823 - val_accuracy: 0.8580\n",
      "Epoch 46/50\n",
      "107/107 [==============================] - 0s 3ms/step - loss: 0.0243 - accuracy: 0.9929 - val_loss: 0.6727 - val_accuracy: 0.8540\n",
      "Epoch 47/50\n",
      "107/107 [==============================] - 0s 3ms/step - loss: 0.0109 - accuracy: 0.9965 - val_loss: 0.7073 - val_accuracy: 0.8520\n",
      "Epoch 48/50\n",
      "107/107 [==============================] - 0s 3ms/step - loss: 0.0231 - accuracy: 0.9906 - val_loss: 0.7086 - val_accuracy: 0.8580\n",
      "Epoch 49/50\n",
      "107/107 [==============================] - 0s 3ms/step - loss: 0.0331 - accuracy: 0.9853 - val_loss: 0.6802 - val_accuracy: 0.8400\n",
      "Epoch 50/50\n",
      "107/107 [==============================] - 0s 3ms/step - loss: 0.0193 - accuracy: 0.9924 - val_loss: 0.7150 - val_accuracy: 0.8580\n"
     ]
    },
    {
     "data": {
      "image/png": "[encoded data removed]",
      "text/plain": [
       "<Figure size 432x288 with 1 Axes>"
      ]
     },
     "metadata": {
      "needs_background": "light"
     },
     "output_type": "display_data"
    },
    {
     "data": {
      "image/png": "[encoded data removed]",
      "text/plain": [
       "<Figure size 432x288 with 1 Axes>"
      ]
     },
     "metadata": {
      "needs_background": "light"
     },
     "output_type": "display_data"
    }
   ],
   "source": [
    "## training and testing model with the data set\n",
    "history = model.fit(train_data, \n",
    "                  train_labels, \n",
    "                  epochs = epochs, \n",
    "                  batch_size = batch_size, \n",
    "                  validation_data=(validation_data, validation_labels))\n",
    "\n",
    "## plot accuracy graph\n",
    "plt.plot(history.history['accuracy'])\n",
    "plt.plot(history.history['val_accuracy'])\n",
    "plt.title('Training and Validation accuracy')\n",
    "plt.legend(['accuracy','validation accuracy'])\n",
    "plt.xlabel('Epochs')\n",
    "plt.ylabel('Accuracy')\n",
    "plt.show()\n",
    "\n",
    "## plot loss graph\n",
    "plt.plot(history.history['loss'])\n",
    "plt.plot(history.history['val_loss'])\n",
    "plt.title('Training and Validation loss')\n",
    "plt.legend(['loss','validation loss'])\n",
    "plt.xlabel('Epochs')\n",
    "plt.ylabel('Loss')\n",
    "plt.show()\n",
    "\n",
    "## saving the weights of model\n",
    "model.save_weights(top_model_weights_path)"
   ]
  },
  {
   "cell_type": "code",
   "execution_count": null,
   "id": "3f81f402",
   "metadata": {},
   "outputs": [],
   "source": []
  }
 ],
 "metadata": {
  "kernelspec": {
   "display_name": "Python 3 (ipykernel)",
   "language": "python",
   "name": "python3"
  },
  "language_info": {
   "codemirror_mode": {
    "name": "ipython",
    "version": 3
   },
   "file_extension": ".py",
   "mimetype": "text/x-python",
   "name": "python",
   "nbconvert_exporter": "python",
   "pygments_lexer": "ipython3",
   "version": "3.8.8"
  },
  "toc": {
   "base_numbering": 1,
   "nav_menu": {},
   "number_sections": true,
   "sideBar": true,
   "skip_h1_title": false,
   "title_cell": "Table of Contents",
   "title_sidebar": "Contents",
   "toc_cell": false,
   "toc_position": {},
   "toc_section_display": true,
   "toc_window_display": false
  },
  "varInspector": {
   "cols": {
    "lenName": 16,
    "lenType": 16,
    "lenVar": 40
   },
   "kernels_config": {
    "python": {
     "delete_cmd_postfix": "",
     "delete_cmd_prefix": "del ",
     "library": "var_list.py",
     "varRefreshCmd": "print(var_dic_list())"
    },
    "r": {
     "delete_cmd_postfix": ") ",
     "delete_cmd_prefix": "rm(",
     "library": "var_list.r",
     "varRefreshCmd": "cat(var_dic_list()) "
    }
   },
   "types_to_exclude": [
    "module",
    "function",
    "builtin_function_or_method",
    "instance",
    "_Feature"
   ],
   "window_display": false
  }
 },
 "nbformat": 4,
 "nbformat_minor": 5
}
