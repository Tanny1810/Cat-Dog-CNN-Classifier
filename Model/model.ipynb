{
 "cells": [
  {
   "cell_type": "markdown",
   "id": "ef62913c",
   "metadata": {},
   "source": [
    "## Import libraries"
   ]
  },
  {
   "cell_type": "code",
   "execution_count": 1,
   "id": "738aeb4c",
   "metadata": {
    "ExecuteTime": {
     "end_time": "2022-01-25T21:28:14.862100Z",
     "start_time": "2022-01-25T21:28:11.437328Z"
    }
   },
   "outputs": [],
   "source": [
    "## importing libraries\n",
    "import tensorflow as tf\n",
    "from keras.preprocessing.image import ImageDataGenerator\n",
    "from keras.models import Sequential\n",
    "from keras.layers import Conv2D, MaxPooling2D\n",
    "from keras.layers import Activation, Dropout, Flatten, Dense\n",
    "from keras import backend as K\n",
    "import matplotlib.pyplot as plt"
   ]
  },
  {
   "cell_type": "markdown",
   "id": "0fd53071",
   "metadata": {},
   "source": [
    "## Initialization"
   ]
  },
  {
   "cell_type": "code",
   "execution_count": 2,
   "id": "4a15ba60",
   "metadata": {
    "ExecuteTime": {
     "end_time": "2022-01-25T21:28:14.878103Z",
     "start_time": "2022-01-25T21:28:14.863101Z"
    }
   },
   "outputs": [],
   "source": [
    "## image dimensions\n",
    "img_w, img_h = 150, 150\n",
    "\n",
    "## data set directory\n",
    "train_data_dir = r'..\\Data\\train'\n",
    "validation_data_dir = r'..\\Data\\validation'\n",
    "\n",
    "## epochs\n",
    "epochs = 50\n",
    "\n",
    "## batch Size\n",
    "batch_size = 32\n",
    "\n",
    "## define where the 'channels' dimension is in input data\n",
    "if K.image_data_format() == 'channels_first':\n",
    "    input_shape = (3, img_w, img_h)\n",
    "else:\n",
    "    input_shape = (img_w, img_h, 3)"
   ]
  },
  {
   "cell_type": "markdown",
   "id": "5d780f88",
   "metadata": {},
   "source": [
    "## Model"
   ]
  },
  {
   "cell_type": "code",
   "execution_count": 3,
   "id": "51d9c314",
   "metadata": {
    "ExecuteTime": {
     "end_time": "2022-01-25T21:28:15.768304Z",
     "start_time": "2022-01-25T21:28:14.879104Z"
    }
   },
   "outputs": [],
   "source": [
    "## model type\n",
    "model = Sequential()\n",
    "\n",
    "##layer 1\n",
    "model.add(Conv2D(32, (3, 3), input_shape=input_shape))\n",
    "model.add(Activation('relu'))\n",
    "model.add(MaxPooling2D(pool_size=(2, 2)))\n",
    "\n",
    "##layer 2\n",
    "model.add(Conv2D(32, (3, 3)))\n",
    "model.add(Activation('relu'))\n",
    "model.add(MaxPooling2D(pool_size=(2, 2)))\n",
    "\n",
    "##layer 3\n",
    "model.add(Conv2D(64, (3, 3)))\n",
    "model.add(Activation('relu'))\n",
    "model.add(MaxPooling2D(pool_size=(2, 2)))\n",
    "\n",
    "##layer 4\n",
    "model.add(Flatten())\n",
    "model.add(Dense(64))\n",
    "model.add(Activation('relu'))\n",
    "model.add(Dropout(0.6))\n",
    "model.add(Dense(1))\n",
    "model.add(Activation('sigmoid'))\n",
    "\n",
    "## compile model\n",
    "model.compile(loss='binary_crossentropy',\n",
    "              optimizer=tf.keras.optimizers.Adam(learning_rate=1e-3),\n",
    "              metrics=['accuracy'])"
   ]
  },
  {
   "cell_type": "markdown",
   "id": "6a9d658f",
   "metadata": {},
   "source": [
    "## Data Preprocessing"
   ]
  },
  {
   "cell_type": "code",
   "execution_count": 4,
   "id": "055d0f15",
   "metadata": {
    "ExecuteTime": {
     "end_time": "2022-01-25T21:28:15.848322Z",
     "start_time": "2022-01-25T21:28:15.769304Z"
    }
   },
   "outputs": [
    {
     "name": "stdout",
     "output_type": "stream",
     "text": [
      "Found 1700 images belonging to 2 classes.\n",
      "Found 500 images belonging to 2 classes.\n"
     ]
    }
   ],
   "source": [
    "## data augmentation\n",
    "train_datagen = ImageDataGenerator(rescale=1. / 255, \n",
    "                                   shear_range=0.3,\n",
    "                                   zoom_range= 0.2, \n",
    "                                   horizontal_flip=True, \n",
    "                                   rotation_range=20)\n",
    "\n",
    "test_datagen = ImageDataGenerator(rescale=1. / 255)\n",
    "\n",
    "## train data\n",
    "train_generator = train_datagen.flow_from_directory(train_data_dir,\n",
    "                                                    target_size=(img_w, img_h),\n",
    "                                                    batch_size=batch_size,\n",
    "                                                    class_mode='binary')\n",
    "\n",
    "## validation data\n",
    "validation_generator = test_datagen.flow_from_directory(validation_data_dir,\n",
    "                                                        target_size=(img_w, img_h),\n",
    "                                                        batch_size=batch_size,\n",
    "                                                        class_mode='binary')\n"
   ]
  },
  {
   "cell_type": "markdown",
   "id": "a989dc91",
   "metadata": {},
   "source": [
    "## Model Train/Validation"
   ]
  },
  {
   "cell_type": "code",
   "execution_count": 5,
   "id": "d5b1b020",
   "metadata": {
    "ExecuteTime": {
     "end_time": "2022-01-25T21:34:32.749001Z",
     "start_time": "2022-01-25T21:28:15.849322Z"
    },
    "scrolled": false
   },
   "outputs": [
    {
     "name": "stdout",
     "output_type": "stream",
     "text": [
      "Epoch 1/50\n",
      "54/54 [==============================] - 13s 158ms/step - loss: 0.6979 - accuracy: 0.4906 - val_loss: 0.6925 - val_accuracy: 0.5700\n",
      "Epoch 2/50\n",
      "54/54 [==============================] - 7s 137ms/step - loss: 0.6918 - accuracy: 0.5153 - val_loss: 0.6896 - val_accuracy: 0.5500\n",
      "Epoch 3/50\n",
      "54/54 [==============================] - 7s 135ms/step - loss: 0.6877 - accuracy: 0.5353 - val_loss: 0.6867 - val_accuracy: 0.5140\n",
      "Epoch 4/50\n",
      "54/54 [==============================] - 7s 137ms/step - loss: 0.6836 - accuracy: 0.5594 - val_loss: 0.6796 - val_accuracy: 0.5580\n",
      "Epoch 5/50\n",
      "54/54 [==============================] - 8s 138ms/step - loss: 0.6808 - accuracy: 0.5641 - val_loss: 0.6928 - val_accuracy: 0.5340\n",
      "Epoch 6/50\n",
      "54/54 [==============================] - 7s 137ms/step - loss: 0.6737 - accuracy: 0.5906 - val_loss: 0.6776 - val_accuracy: 0.5520\n",
      "Epoch 7/50\n",
      "54/54 [==============================] - 7s 138ms/step - loss: 0.6714 - accuracy: 0.5994 - val_loss: 0.6814 - val_accuracy: 0.5600\n",
      "Epoch 8/50\n",
      "54/54 [==============================] - 7s 135ms/step - loss: 0.6732 - accuracy: 0.5888 - val_loss: 0.6802 - val_accuracy: 0.5440\n",
      "Epoch 9/50\n",
      "54/54 [==============================] - 7s 137ms/step - loss: 0.6636 - accuracy: 0.6141 - val_loss: 0.6764 - val_accuracy: 0.5820\n",
      "Epoch 10/50\n",
      "54/54 [==============================] - 8s 138ms/step - loss: 0.6509 - accuracy: 0.6376 - val_loss: 0.6582 - val_accuracy: 0.5820\n",
      "Epoch 11/50\n",
      "54/54 [==============================] - 7s 139ms/step - loss: 0.6229 - accuracy: 0.6535 - val_loss: 0.6609 - val_accuracy: 0.5560\n",
      "Epoch 12/50\n",
      "54/54 [==============================] - 7s 136ms/step - loss: 0.6258 - accuracy: 0.6488 - val_loss: 0.7006 - val_accuracy: 0.6180\n",
      "Epoch 13/50\n",
      "54/54 [==============================] - 8s 141ms/step - loss: 0.6022 - accuracy: 0.6918 - val_loss: 0.6607 - val_accuracy: 0.6560\n",
      "Epoch 14/50\n",
      "54/54 [==============================] - 7s 138ms/step - loss: 0.6189 - accuracy: 0.6618 - val_loss: 0.6331 - val_accuracy: 0.6720\n",
      "Epoch 15/50\n",
      "54/54 [==============================] - 7s 136ms/step - loss: 0.6236 - accuracy: 0.6812 - val_loss: 0.6811 - val_accuracy: 0.6340\n",
      "Epoch 16/50\n",
      "54/54 [==============================] - 7s 135ms/step - loss: 0.5985 - accuracy: 0.6747 - val_loss: 0.6496 - val_accuracy: 0.6400\n",
      "Epoch 17/50\n",
      "54/54 [==============================] - 7s 137ms/step - loss: 0.6101 - accuracy: 0.6706 - val_loss: 0.6341 - val_accuracy: 0.6640\n",
      "Epoch 18/50\n",
      "54/54 [==============================] - 7s 136ms/step - loss: 0.6018 - accuracy: 0.6865 - val_loss: 0.6462 - val_accuracy: 0.6700\n",
      "Epoch 19/50\n",
      "54/54 [==============================] - 7s 137ms/step - loss: 0.5873 - accuracy: 0.6865 - val_loss: 0.6654 - val_accuracy: 0.6360\n",
      "Epoch 20/50\n",
      "54/54 [==============================] - 7s 137ms/step - loss: 0.5718 - accuracy: 0.7094 - val_loss: 0.6386 - val_accuracy: 0.7000\n",
      "Epoch 21/50\n",
      "54/54 [==============================] - 7s 138ms/step - loss: 0.5744 - accuracy: 0.7112 - val_loss: 0.6263 - val_accuracy: 0.6820\n",
      "Epoch 22/50\n",
      "54/54 [==============================] - 7s 137ms/step - loss: 0.5604 - accuracy: 0.7229 - val_loss: 0.6057 - val_accuracy: 0.7140\n",
      "Epoch 23/50\n",
      "54/54 [==============================] - 7s 136ms/step - loss: 0.5428 - accuracy: 0.7212 - val_loss: 0.6287 - val_accuracy: 0.6940\n",
      "Epoch 24/50\n",
      "54/54 [==============================] - 7s 135ms/step - loss: 0.5421 - accuracy: 0.7224 - val_loss: 0.6480 - val_accuracy: 0.6580\n",
      "Epoch 25/50\n",
      "54/54 [==============================] - 7s 137ms/step - loss: 0.5715 - accuracy: 0.7165 - val_loss: 0.6781 - val_accuracy: 0.6860\n",
      "Epoch 26/50\n",
      "54/54 [==============================] - 7s 138ms/step - loss: 0.5471 - accuracy: 0.7171 - val_loss: 0.6266 - val_accuracy: 0.6980\n",
      "Epoch 27/50\n",
      "54/54 [==============================] - 7s 136ms/step - loss: 0.5404 - accuracy: 0.7259 - val_loss: 0.6071 - val_accuracy: 0.6960\n",
      "Epoch 28/50\n",
      "54/54 [==============================] - 7s 137ms/step - loss: 0.5253 - accuracy: 0.7341 - val_loss: 0.6011 - val_accuracy: 0.7040\n",
      "Epoch 29/50\n",
      "54/54 [==============================] - 7s 136ms/step - loss: 0.5206 - accuracy: 0.7376 - val_loss: 0.7586 - val_accuracy: 0.6400\n",
      "Epoch 30/50\n",
      "54/54 [==============================] - 7s 136ms/step - loss: 0.5400 - accuracy: 0.7288 - val_loss: 0.6264 - val_accuracy: 0.6940\n",
      "Epoch 31/50\n",
      "54/54 [==============================] - 7s 137ms/step - loss: 0.5250 - accuracy: 0.7306 - val_loss: 0.6030 - val_accuracy: 0.7020\n",
      "Epoch 32/50\n",
      "54/54 [==============================] - 8s 140ms/step - loss: 0.5171 - accuracy: 0.7400 - val_loss: 0.5939 - val_accuracy: 0.7320\n",
      "Epoch 33/50\n",
      "54/54 [==============================] - 7s 137ms/step - loss: 0.5154 - accuracy: 0.7276 - val_loss: 0.5708 - val_accuracy: 0.7220\n",
      "Epoch 34/50\n",
      "54/54 [==============================] - 7s 137ms/step - loss: 0.5011 - accuracy: 0.7506 - val_loss: 0.6306 - val_accuracy: 0.7060\n",
      "Epoch 35/50\n",
      "54/54 [==============================] - 7s 137ms/step - loss: 0.4950 - accuracy: 0.7500 - val_loss: 0.5957 - val_accuracy: 0.7220\n",
      "Epoch 36/50\n",
      "54/54 [==============================] - 7s 137ms/step - loss: 0.5011 - accuracy: 0.7565 - val_loss: 0.5688 - val_accuracy: 0.7380\n",
      "Epoch 37/50\n",
      "54/54 [==============================] - 7s 135ms/step - loss: 0.5067 - accuracy: 0.7576 - val_loss: 0.6470 - val_accuracy: 0.7060\n",
      "Epoch 38/50\n",
      "54/54 [==============================] - 7s 135ms/step - loss: 0.5011 - accuracy: 0.7488 - val_loss: 0.6484 - val_accuracy: 0.6800\n",
      "Epoch 39/50\n",
      "54/54 [==============================] - 7s 135ms/step - loss: 0.4594 - accuracy: 0.7782 - val_loss: 0.6619 - val_accuracy: 0.7200\n",
      "Epoch 40/50\n",
      "54/54 [==============================] - 7s 136ms/step - loss: 0.4681 - accuracy: 0.7724 - val_loss: 0.5498 - val_accuracy: 0.7540\n",
      "Epoch 41/50\n",
      "54/54 [==============================] - 7s 136ms/step - loss: 0.4672 - accuracy: 0.7847 - val_loss: 0.6288 - val_accuracy: 0.7320\n",
      "Epoch 42/50\n",
      "54/54 [==============================] - 7s 137ms/step - loss: 0.4714 - accuracy: 0.7706 - val_loss: 0.5591 - val_accuracy: 0.7320\n",
      "Epoch 43/50\n",
      "54/54 [==============================] - 7s 137ms/step - loss: 0.4638 - accuracy: 0.7865 - val_loss: 0.6315 - val_accuracy: 0.7100\n",
      "Epoch 44/50\n",
      "54/54 [==============================] - 7s 138ms/step - loss: 0.4445 - accuracy: 0.7829 - val_loss: 0.5557 - val_accuracy: 0.7220\n",
      "Epoch 45/50\n",
      "54/54 [==============================] - 7s 137ms/step - loss: 0.4494 - accuracy: 0.7888 - val_loss: 0.6332 - val_accuracy: 0.7060\n",
      "Epoch 46/50\n",
      "54/54 [==============================] - 7s 136ms/step - loss: 0.4869 - accuracy: 0.7541 - val_loss: 0.6081 - val_accuracy: 0.7180\n",
      "Epoch 47/50\n",
      "54/54 [==============================] - 7s 136ms/step - loss: 0.4541 - accuracy: 0.7865 - val_loss: 0.5666 - val_accuracy: 0.7420\n",
      "Epoch 48/50\n",
      "54/54 [==============================] - 7s 137ms/step - loss: 0.4323 - accuracy: 0.8018 - val_loss: 0.5666 - val_accuracy: 0.7380\n",
      "Epoch 49/50\n",
      "54/54 [==============================] - 7s 134ms/step - loss: 0.4273 - accuracy: 0.7947 - val_loss: 0.7004 - val_accuracy: 0.7040\n",
      "Epoch 50/50\n",
      "54/54 [==============================] - 7s 135ms/step - loss: 0.4602 - accuracy: 0.7759 - val_loss: 0.5911 - val_accuracy: 0.7340\n"
     ]
    },
    {
     "data": {
      "image/png": "[encoded data removed]",
      "text/plain": [
       "<Figure size 432x288 with 1 Axes>"
      ]
     },
     "metadata": {
      "needs_background": "light"
     },
     "output_type": "display_data"
    },
    {
     "data": {
      "image/png": "[encoded data removed]",
      "text/plain": [
       "<Figure size 432x288 with 1 Axes>"
      ]
     },
     "metadata": {
      "needs_background": "light"
     },
     "output_type": "display_data"
    }
   ],
   "source": [
    "## training and testing model with the data set\n",
    "history = model.fit(train_generator,\n",
    "                    batch_size = batch_size,\n",
    "                    epochs = epochs,\n",
    "                    validation_data = validation_generator)\n",
    "\n",
    "## plot accuracy graph\n",
    "plt.plot(history.history['accuracy'])\n",
    "plt.plot(history.history['val_accuracy'])\n",
    "plt.title('Training and Validation accuracy')\n",
    "plt.legend(['accuracy','validation accuracy'])\n",
    "plt.xlabel('Epochs')\n",
    "plt.ylabel('Accuracy')\n",
    "plt.show()\n",
    "\n",
    "## plot loss graph\n",
    "plt.plot(history.history['loss'])\n",
    "plt.plot(history.history['val_loss'])\n",
    "plt.title('Training and Validation loss')\n",
    "plt.legend(['loss','validation loss'])\n",
    "plt.xlabel('Epochs')\n",
    "plt.ylabel('Loss')\n",
    "plt.show()\n",
    "\n",
    "## saving the weights of model\n",
    "model.save_weights('model_weights.h5')"
   ]
  }
 ],
 "metadata": {
  "kernelspec": {
   "display_name": "Python 3 (ipykernel)",
   "language": "python",
   "name": "python3"
  },
  "language_info": {
   "codemirror_mode": {
    "name": "ipython",
    "version": 3
   },
   "file_extension": ".py",
   "mimetype": "text/x-python",
   "name": "python",
   "nbconvert_exporter": "python",
   "pygments_lexer": "ipython3",
   "version": "3.8.8"
  },
  "toc": {
   "base_numbering": 1,
   "nav_menu": {},
   "number_sections": true,
   "sideBar": true,
   "skip_h1_title": false,
   "title_cell": "Table of Contents",
   "title_sidebar": "Contents",
   "toc_cell": false,
   "toc_position": {},
   "toc_section_display": true,
   "toc_window_display": false
  },
  "varInspector": {
   "cols": {
    "lenName": 16,
    "lenType": 16,
    "lenVar": 40
   },
   "kernels_config": {
    "python": {
     "delete_cmd_postfix": "",
     "delete_cmd_prefix": "del ",
     "library": "var_list.py",
     "varRefreshCmd": "print(var_dic_list())"
    },
    "r": {
     "delete_cmd_postfix": ") ",
     "delete_cmd_prefix": "rm(",
     "library": "var_list.r",
     "varRefreshCmd": "cat(var_dic_list()) "
    }
   },
   "types_to_exclude": [
    "module",
    "function",
    "builtin_function_or_method",
    "instance",
    "_Feature"
   ],
   "window_display": false
  }
 },
 "nbformat": 4,
 "nbformat_minor": 5
}
