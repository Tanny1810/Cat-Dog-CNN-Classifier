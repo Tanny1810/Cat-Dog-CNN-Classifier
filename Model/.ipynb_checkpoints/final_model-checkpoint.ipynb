{
 "cells": [
  {
   "cell_type": "markdown",
   "id": "be456836",
   "metadata": {},
   "source": [
    "# Combining model and VGG16 to fine tune the model "
   ]
  },
  {
   "cell_type": "markdown",
   "id": "d262dbbb",
   "metadata": {},
   "source": [
    "## Import libraries"
   ]
  },
  {
   "cell_type": "code",
   "execution_count": 1,
   "id": "35fceac3",
   "metadata": {
    "ExecuteTime": {
     "end_time": "2022-01-27T09:44:19.741318Z",
     "start_time": "2022-01-27T09:44:16.651622Z"
    }
   },
   "outputs": [],
   "source": [
    "## libraries\n",
    "import tensorflow as tf\n",
    "from keras.preprocessing.image import ImageDataGenerator\n",
    "from keras.models import Sequential, Model\n",
    "from keras.layers import Conv2D, MaxPooling2D\n",
    "from keras.layers import Activation, Dropout, Flatten, Dense\n",
    "from keras import applications\n",
    "import matplotlib.pyplot as plt"
   ]
  },
  {
   "cell_type": "markdown",
   "id": "276a25b0",
   "metadata": {},
   "source": [
    "## initialization"
   ]
  },
  {
   "cell_type": "code",
   "execution_count": 2,
   "id": "563009eb",
   "metadata": {
    "ExecuteTime": {
     "end_time": "2022-01-27T09:44:19.757322Z",
     "start_time": "2022-01-27T09:44:19.742318Z"
    }
   },
   "outputs": [],
   "source": [
    "model_weights = r'..\\Weights\\bottleneck_fc_model.h5'\n",
    "\n",
    "## image dimensions\n",
    "img_h, img_w = 150, 150\n",
    "\n",
    "## epochs\n",
    "epochs = 50\n",
    "\n",
    "## batch Size\n",
    "batch_size = 32\n",
    "\n",
    "## total no of train and validation samples\n",
    "nb_train_samples = 1700\n",
    "nb_validation_samples = 500\n",
    "\n",
    "## data set directory\n",
    "train_data_dir = r'..\\Data\\train'\n",
    "validation_data_dir = r'..\\Data\\validation'"
   ]
  },
  {
   "cell_type": "markdown",
   "id": "ecda7ccc",
   "metadata": {},
   "source": [
    "## Model"
   ]
  },
  {
   "cell_type": "code",
   "execution_count": 3,
   "id": "aecfafa2",
   "metadata": {
    "ExecuteTime": {
     "end_time": "2022-01-27T09:44:21.955818Z",
     "start_time": "2022-01-27T09:44:19.758322Z"
    }
   },
   "outputs": [
    {
     "name": "stdout",
     "output_type": "stream",
     "text": [
      "Model loaded.\n"
     ]
    }
   ],
   "source": [
    "## vgg16 network\n",
    "model = applications.vgg16.VGG16(include_top = False, weights = 'imagenet', input_shape=(150,150,3))\n",
    "print('Model loaded.')\n",
    "\n",
    "top_model = Sequential()\n",
    "# top_model.add(Dense(128))\n",
    "top_model.add(Conv2D(128,(3,3),input_shape = model.output_shape[1:]))\n",
    "top_model.add(Activation('relu'))\n",
    "top_model.add(MaxPooling2D(pool_size = (2, 2)))\n",
    "top_model.add(Flatten())\n",
    "top_model.add(Dense(256, activation = 'relu'))\n",
    "top_model.add(Dropout(0.6))\n",
    "top_model.add(Dense(1, activation = 'sigmoid'))\n",
    "\n",
    "top_model.load_weights(model_weights, by_name = True, skip_mismatch = True)\n",
    "\n",
    "model = Model(inputs=model.input, outputs=top_model(model.output))\n",
    "\n",
    "for layer in model.layers[:15]:\n",
    "    layer.trainable = False\n",
    "    \n",
    "model.compile(loss = 'binary_crossentropy', \n",
    "             optimizer = tf.keras.optimizers.SGD(learning_rate = 1e-4, momentum = 0.9), \n",
    "             metrics = ['accuracy'])"
   ]
  },
  {
   "cell_type": "markdown",
   "id": "b1f9f36b",
   "metadata": {},
   "source": [
    "## Data Preprocessing"
   ]
  },
  {
   "cell_type": "code",
   "execution_count": 4,
   "id": "7d1f4c22",
   "metadata": {
    "ExecuteTime": {
     "end_time": "2022-01-27T09:44:22.050839Z",
     "start_time": "2022-01-27T09:44:21.957819Z"
    }
   },
   "outputs": [
    {
     "name": "stdout",
     "output_type": "stream",
     "text": [
      "Found 1700 images belonging to 2 classes.\n",
      "Found 500 images belonging to 2 classes.\n"
     ]
    }
   ],
   "source": [
    "## data augmentation\n",
    "train_datagen = ImageDataGenerator(rescale = 1./255, \n",
    "                                   shear_range = 0.3, \n",
    "                                   zoom_range = 0.2, \n",
    "                                   horizontal_flip = True, \n",
    "                                   rotation_range=20)\n",
    "\n",
    "test_datagen = ImageDataGenerator(rescale=1. / 255)\n",
    "\n",
    "## train data\n",
    "train_generator = train_datagen.flow_from_directory(train_data_dir,\n",
    "                                                    target_size=(img_w, img_h),\n",
    "                                                    batch_size=batch_size,\n",
    "                                                    class_mode='binary')\n",
    "\n",
    "## validation data\n",
    "validation_generator = test_datagen.flow_from_directory(validation_data_dir,\n",
    "                                                        target_size=(img_w, img_h),\n",
    "                                                        batch_size=batch_size,\n",
    "                                                        class_mode='binary')"
   ]
  },
  {
   "cell_type": "markdown",
   "id": "dfbe8dea",
   "metadata": {},
   "source": [
    "## Model Train/Validation"
   ]
  },
  {
   "cell_type": "code",
   "execution_count": 5,
   "id": "e098f0bc",
   "metadata": {
    "ExecuteTime": {
     "end_time": "2022-01-27T09:50:43.325856Z",
     "start_time": "2022-01-27T09:44:22.051839Z"
    },
    "scrolled": false
   },
   "outputs": [
    {
     "name": "stdout",
     "output_type": "stream",
     "text": [
      "Epoch 1/50\n",
      "54/54 [==============================] - 14s 172ms/step - loss: 0.7512 - accuracy: 0.4976 - val_loss: 0.6543 - val_accuracy: 0.6420\n",
      "Epoch 2/50\n",
      "54/54 [==============================] - 7s 138ms/step - loss: 0.6867 - accuracy: 0.5676 - val_loss: 0.6332 - val_accuracy: 0.6460\n",
      "Epoch 3/50\n",
      "54/54 [==============================] - 7s 138ms/step - loss: 0.6512 - accuracy: 0.6024 - val_loss: 0.5968 - val_accuracy: 0.7640\n",
      "Epoch 4/50\n",
      "54/54 [==============================] - 7s 136ms/step - loss: 0.6372 - accuracy: 0.6324 - val_loss: 0.5637 - val_accuracy: 0.7920\n",
      "Epoch 5/50\n",
      "54/54 [==============================] - 8s 141ms/step - loss: 0.6123 - accuracy: 0.6659 - val_loss: 0.5276 - val_accuracy: 0.8100\n",
      "Epoch 6/50\n",
      "54/54 [==============================] - 8s 142ms/step - loss: 0.5738 - accuracy: 0.7065 - val_loss: 0.4929 - val_accuracy: 0.8220\n",
      "Epoch 7/50\n",
      "54/54 [==============================] - 7s 137ms/step - loss: 0.5528 - accuracy: 0.7153 - val_loss: 0.4562 - val_accuracy: 0.8300\n",
      "Epoch 8/50\n",
      "54/54 [==============================] - 7s 137ms/step - loss: 0.5270 - accuracy: 0.7476 - val_loss: 0.4268 - val_accuracy: 0.8340\n",
      "Epoch 9/50\n",
      "54/54 [==============================] - 7s 137ms/step - loss: 0.4903 - accuracy: 0.7700 - val_loss: 0.3960 - val_accuracy: 0.8400\n",
      "Epoch 10/50\n",
      "54/54 [==============================] - 8s 139ms/step - loss: 0.4765 - accuracy: 0.7700 - val_loss: 0.3750 - val_accuracy: 0.8440\n",
      "Epoch 11/50\n",
      "54/54 [==============================] - 8s 140ms/step - loss: 0.4447 - accuracy: 0.7941 - val_loss: 0.3601 - val_accuracy: 0.8500\n",
      "Epoch 12/50\n",
      "54/54 [==============================] - 8s 138ms/step - loss: 0.4265 - accuracy: 0.7994 - val_loss: 0.3613 - val_accuracy: 0.8400\n",
      "Epoch 13/50\n",
      "54/54 [==============================] - 7s 138ms/step - loss: 0.4255 - accuracy: 0.7965 - val_loss: 0.3388 - val_accuracy: 0.8620\n",
      "Epoch 14/50\n",
      "54/54 [==============================] - 7s 137ms/step - loss: 0.4023 - accuracy: 0.8159 - val_loss: 0.3327 - val_accuracy: 0.8500\n",
      "Epoch 15/50\n",
      "54/54 [==============================] - 7s 138ms/step - loss: 0.3924 - accuracy: 0.8206 - val_loss: 0.3207 - val_accuracy: 0.8660\n",
      "Epoch 16/50\n",
      "54/54 [==============================] - 7s 137ms/step - loss: 0.3658 - accuracy: 0.8365 - val_loss: 0.3145 - val_accuracy: 0.8700\n",
      "Epoch 17/50\n",
      "54/54 [==============================] - 7s 136ms/step - loss: 0.3634 - accuracy: 0.8424 - val_loss: 0.3072 - val_accuracy: 0.8720\n",
      "Epoch 18/50\n",
      "54/54 [==============================] - 7s 138ms/step - loss: 0.3535 - accuracy: 0.8400 - val_loss: 0.3023 - val_accuracy: 0.8740\n",
      "Epoch 19/50\n",
      "54/54 [==============================] - 7s 138ms/step - loss: 0.3335 - accuracy: 0.8565 - val_loss: 0.3181 - val_accuracy: 0.8480\n",
      "Epoch 20/50\n",
      "54/54 [==============================] - 7s 138ms/step - loss: 0.3486 - accuracy: 0.8488 - val_loss: 0.2947 - val_accuracy: 0.8760\n",
      "Epoch 21/50\n",
      "54/54 [==============================] - 7s 137ms/step - loss: 0.3266 - accuracy: 0.8606 - val_loss: 0.2891 - val_accuracy: 0.8740\n",
      "Epoch 22/50\n",
      "54/54 [==============================] - 8s 138ms/step - loss: 0.3130 - accuracy: 0.8600 - val_loss: 0.2831 - val_accuracy: 0.8780\n",
      "Epoch 23/50\n",
      "54/54 [==============================] - 7s 137ms/step - loss: 0.3211 - accuracy: 0.8747 - val_loss: 0.2908 - val_accuracy: 0.8800\n",
      "Epoch 24/50\n",
      "54/54 [==============================] - 7s 137ms/step - loss: 0.3101 - accuracy: 0.8612 - val_loss: 0.2788 - val_accuracy: 0.8880\n",
      "Epoch 25/50\n",
      "54/54 [==============================] - 8s 139ms/step - loss: 0.2902 - accuracy: 0.8853 - val_loss: 0.2756 - val_accuracy: 0.8900\n",
      "Epoch 26/50\n",
      "54/54 [==============================] - 7s 140ms/step - loss: 0.2874 - accuracy: 0.8841 - val_loss: 0.2793 - val_accuracy: 0.8780\n",
      "Epoch 27/50\n",
      "54/54 [==============================] - 7s 138ms/step - loss: 0.2955 - accuracy: 0.8788 - val_loss: 0.2740 - val_accuracy: 0.8800\n",
      "Epoch 28/50\n",
      "54/54 [==============================] - 8s 139ms/step - loss: 0.2776 - accuracy: 0.8912 - val_loss: 0.2737 - val_accuracy: 0.8800\n",
      "Epoch 29/50\n",
      "54/54 [==============================] - 7s 137ms/step - loss: 0.2531 - accuracy: 0.8859 - val_loss: 0.2803 - val_accuracy: 0.8880\n",
      "Epoch 30/50\n",
      "54/54 [==============================] - 7s 138ms/step - loss: 0.2761 - accuracy: 0.8800 - val_loss: 0.2766 - val_accuracy: 0.8800\n",
      "Epoch 31/50\n",
      "54/54 [==============================] - 8s 139ms/step - loss: 0.2814 - accuracy: 0.8794 - val_loss: 0.3625 - val_accuracy: 0.8420\n",
      "Epoch 32/50\n",
      "54/54 [==============================] - 8s 139ms/step - loss: 0.2600 - accuracy: 0.8971 - val_loss: 0.2794 - val_accuracy: 0.8760\n",
      "Epoch 33/50\n",
      "54/54 [==============================] - 8s 139ms/step - loss: 0.2550 - accuracy: 0.8953 - val_loss: 0.2705 - val_accuracy: 0.8780\n",
      "Epoch 34/50\n",
      "54/54 [==============================] - 7s 138ms/step - loss: 0.2630 - accuracy: 0.8918 - val_loss: 0.2631 - val_accuracy: 0.8900\n",
      "Epoch 35/50\n",
      "54/54 [==============================] - 7s 137ms/step - loss: 0.2314 - accuracy: 0.9041 - val_loss: 0.2620 - val_accuracy: 0.8920\n",
      "Epoch 36/50\n",
      "54/54 [==============================] - 7s 137ms/step - loss: 0.2345 - accuracy: 0.9024 - val_loss: 0.2646 - val_accuracy: 0.8860\n",
      "Epoch 37/50\n",
      "54/54 [==============================] - 7s 138ms/step - loss: 0.2211 - accuracy: 0.9124 - val_loss: 0.2629 - val_accuracy: 0.8940\n",
      "Epoch 38/50\n",
      "54/54 [==============================] - 8s 138ms/step - loss: 0.2250 - accuracy: 0.9124 - val_loss: 0.2587 - val_accuracy: 0.8940\n",
      "Epoch 39/50\n",
      "54/54 [==============================] - 8s 138ms/step - loss: 0.2165 - accuracy: 0.9165 - val_loss: 0.2616 - val_accuracy: 0.8840\n",
      "Epoch 40/50\n",
      "54/54 [==============================] - 7s 136ms/step - loss: 0.2169 - accuracy: 0.9135 - val_loss: 0.2684 - val_accuracy: 0.8860\n",
      "Epoch 41/50\n",
      "54/54 [==============================] - 7s 137ms/step - loss: 0.2100 - accuracy: 0.9006 - val_loss: 0.2673 - val_accuracy: 0.8940\n",
      "Epoch 42/50\n",
      "54/54 [==============================] - 8s 139ms/step - loss: 0.2070 - accuracy: 0.9200 - val_loss: 0.2720 - val_accuracy: 0.8880\n",
      "Epoch 43/50\n",
      "54/54 [==============================] - 7s 138ms/step - loss: 0.2084 - accuracy: 0.9135 - val_loss: 0.3018 - val_accuracy: 0.8640\n",
      "Epoch 44/50\n",
      "54/54 [==============================] - 7s 137ms/step - loss: 0.1913 - accuracy: 0.9282 - val_loss: 0.2694 - val_accuracy: 0.8920\n",
      "Epoch 45/50\n",
      "54/54 [==============================] - 7s 137ms/step - loss: 0.1932 - accuracy: 0.9241 - val_loss: 0.2740 - val_accuracy: 0.8840\n",
      "Epoch 46/50\n",
      "54/54 [==============================] - 8s 138ms/step - loss: 0.1866 - accuracy: 0.9306 - val_loss: 0.2556 - val_accuracy: 0.9000\n",
      "Epoch 47/50\n",
      "54/54 [==============================] - 7s 138ms/step - loss: 0.1779 - accuracy: 0.9288 - val_loss: 0.2584 - val_accuracy: 0.9020\n",
      "Epoch 48/50\n",
      "54/54 [==============================] - 7s 137ms/step - loss: 0.1846 - accuracy: 0.9288 - val_loss: 0.2621 - val_accuracy: 0.8980\n",
      "Epoch 49/50\n",
      "54/54 [==============================] - 7s 137ms/step - loss: 0.1836 - accuracy: 0.9241 - val_loss: 0.2876 - val_accuracy: 0.8860\n",
      "Epoch 50/50\n",
      "54/54 [==============================] - 7s 138ms/step - loss: 0.1669 - accuracy: 0.9382 - val_loss: 0.2717 - val_accuracy: 0.8960\n"
     ]
    },
    {
     "data": {
      "image/png": "[encoded data removed]",
      "text/plain": [
       "<Figure size 432x288 with 1 Axes>"
      ]
     },
     "metadata": {
      "needs_background": "light"
     },
     "output_type": "display_data"
    },
    {
     "data": {
      "image/png": "[encoded data removed]",
      "text/plain": [
       "<Figure size 432x288 with 1 Axes>"
      ]
     },
     "metadata": {
      "needs_background": "light"
     },
     "output_type": "display_data"
    }
   ],
   "source": [
    "## training and testing model with the data set\n",
    "history = model.fit(train_generator,\n",
    "                    batch_size = batch_size,\n",
    "                    epochs = epochs,\n",
    "                    validation_data = validation_generator)\n",
    "\n",
    "## plot accuracy graph\n",
    "plt.plot(history.history['accuracy'])\n",
    "plt.plot(history.history['val_accuracy'])\n",
    "plt.title('Training and Validation accuracy')\n",
    "plt.legend(['accuracy','validation accuracy'])\n",
    "plt.xlabel('Epochs')\n",
    "plt.ylabel('Accuracy')\n",
    "plt.show()\n",
    "\n",
    "## plot loss graph\n",
    "plt.plot(history.history['loss'])\n",
    "plt.plot(history.history['val_loss'])\n",
    "plt.title('Training and Validation loss')\n",
    "plt.legend(['loss','validation loss'])\n",
    "plt.xlabel('Epochs')\n",
    "plt.ylabel('Loss')\n",
    "plt.show()"
   ]
  }
 ],
 "metadata": {
  "kernelspec": {
   "display_name": "Python 3 (ipykernel)",
   "language": "python",
   "name": "python3"
  },
  "language_info": {
   "codemirror_mode": {
    "name": "ipython",
    "version": 3
   },
   "file_extension": ".py",
   "mimetype": "text/x-python",
   "name": "python",
   "nbconvert_exporter": "python",
   "pygments_lexer": "ipython3",
   "version": "3.8.8"
  },
  "toc": {
   "base_numbering": 1,
   "nav_menu": {},
   "number_sections": true,
   "sideBar": true,
   "skip_h1_title": false,
   "title_cell": "Table of Contents",
   "title_sidebar": "Contents",
   "toc_cell": false,
   "toc_position": {},
   "toc_section_display": true,
   "toc_window_display": false
  },
  "varInspector": {
   "cols": {
    "lenName": 16,
    "lenType": 16,
    "lenVar": 40
   },
   "kernels_config": {
    "python": {
     "delete_cmd_postfix": "",
     "delete_cmd_prefix": "del ",
     "library": "var_list.py",
     "varRefreshCmd": "print(var_dic_list())"
    },
    "r": {
     "delete_cmd_postfix": ") ",
     "delete_cmd_prefix": "rm(",
     "library": "var_list.r",
     "varRefreshCmd": "cat(var_dic_list()) "
    }
   },
   "types_to_exclude": [
    "module",
    "function",
    "builtin_function_or_method",
    "instance",
    "_Feature"
   ],
   "window_display": false
  }
 },
 "nbformat": 4,
 "nbformat_minor": 5
}
