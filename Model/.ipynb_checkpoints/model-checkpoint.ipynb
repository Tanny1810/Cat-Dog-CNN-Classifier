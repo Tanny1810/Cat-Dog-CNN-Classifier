{
 "cells": [
  {
   "cell_type": "markdown",
   "id": "ef62913c",
   "metadata": {},
   "source": [
    "## Import libraries"
   ]
  },
  {
   "cell_type": "code",
   "execution_count": 1,
   "id": "738aeb4c",
   "metadata": {
    "ExecuteTime": {
     "end_time": "2022-01-24T07:00:28.711209Z",
     "start_time": "2022-01-24T07:00:26.524719Z"
    }
   },
   "outputs": [],
   "source": [
    "# importing libraries\n",
    "from keras.models import Sequential\n",
    "from keras.layers import Conv2D, MaxPooling2D\n",
    "from keras.layers import Activation, Dropout, Flatten, Dense\n",
    "from keras import backend as K\n",
    "from keras.preprocessing.image import ImageDataGenerator"
   ]
  },
  {
   "cell_type": "markdown",
   "id": "0fd53071",
   "metadata": {},
   "source": [
    "## Initialization"
   ]
  },
  {
   "cell_type": "code",
   "execution_count": 2,
   "id": "4a15ba60",
   "metadata": {
    "ExecuteTime": {
     "end_time": "2022-01-24T07:00:28.727212Z",
     "start_time": "2022-01-24T07:00:28.713332Z"
    }
   },
   "outputs": [],
   "source": [
    "img_w, img_h = 150, 150\n",
    "\n",
    "train_data_dir = r'..\\Data\\train'\n",
    "validation_data_dir = r'..\\Data\\validation'\n",
    "train_samples = 8000\n",
    "validation_samples = 2000\n",
    "epochs = 90\n",
    "batch_size = 30\n",
    "\n",
    "if K.image_data_format() == 'channels_first':\n",
    "    input_shape = (3, img_w, img_h)\n",
    "else:\n",
    "    input_shape = (img_w, img_h, 3)"
   ]
  },
  {
   "cell_type": "markdown",
   "id": "5d780f88",
   "metadata": {},
   "source": [
    "## Model"
   ]
  },
  {
   "cell_type": "code",
   "execution_count": 3,
   "id": "51d9c314",
   "metadata": {
    "ExecuteTime": {
     "end_time": "2022-01-24T07:00:29.383359Z",
     "start_time": "2022-01-24T07:00:28.728213Z"
    }
   },
   "outputs": [],
   "source": [
    "model = Sequential()\n",
    "##layer 1\n",
    "model.add(Conv2D(32, (3, 3), input_shape = input_shape))\n",
    "model.add(Activation('relu'))\n",
    "model.add(MaxPooling2D(pool_size = (2,2)))\n",
    "\n",
    "##layer2\n",
    "model.add(Conv2D(32, (3, 3)))\n",
    "model.add(Activation('relu'))\n",
    "model.add(MaxPooling2D(pool_size = (2,2)))\n",
    "\n",
    "##layer3\n",
    "model.add(Conv2D(64, (3, 3)))\n",
    "model.add(Activation('relu'))\n",
    "model.add(MaxPooling2D(pool_size = (2,2)))\n",
    "\n",
    "model.add(Flatten())\n",
    "model.add(Dense(64))\n",
    "model.add(Activation('relu'))\n",
    "model.add(Dropout(0.5))\n",
    "model.add(Dense(1))\n",
    "model.add(Activation('sigmoid'))\n",
    "\n",
    "model.compile(loss='binary_crossentropy',\n",
    "             optimizer='rmsprop',\n",
    "             metrics=['accuracy'])"
   ]
  },
  {
   "cell_type": "markdown",
   "id": "6a9d658f",
   "metadata": {},
   "source": [
    "## Data Preprocessing"
   ]
  },
  {
   "cell_type": "code",
   "execution_count": 4,
   "id": "055d0f15",
   "metadata": {
    "ExecuteTime": {
     "end_time": "2022-01-24T07:00:30.007500Z",
     "start_time": "2022-01-24T07:00:29.384360Z"
    }
   },
   "outputs": [
    {
     "name": "stdout",
     "output_type": "stream",
     "text": [
      "Found 16000 images belonging to 2 classes.\n",
      "Found 4000 images belonging to 2 classes.\n"
     ]
    }
   ],
   "source": [
    "batch_size = batch_size\n",
    "\n",
    "train_datagen = ImageDataGenerator(rescale=1./255, \n",
    "                                   width_shift_range=[-200, 200], \n",
    "                                   rotation_range=20, \n",
    "                                   horizontal_flip=True, \n",
    "                                   vertical_flip=True, \n",
    "                                   fill_mode='nearest')\n",
    "test_datagen = ImageDataGenerator(rescale=1./255)\n",
    "\n",
    "train_generator = train_datagen.flow_from_directory(r'..\\Data\\train',\n",
    "                                                   target_size = (150, 150),\n",
    "                                                   batch_size = batch_size,\n",
    "                                                   class_mode = 'binary')\n",
    "\n",
    "validation_generator = test_datagen.flow_from_directory(r'..\\Data\\validation',\n",
    "                                                   target_size = (150, 150),\n",
    "                                                   batch_size = batch_size,\n",
    "                                                   class_mode = 'binary')\n"
   ]
  },
  {
   "cell_type": "markdown",
   "id": "7cab9256",
   "metadata": {},
   "source": [
    "## Initialise GPU"
   ]
  },
  {
   "cell_type": "code",
   "execution_count": 5,
   "id": "9f442b9a",
   "metadata": {
    "ExecuteTime": {
     "end_time": "2022-01-24T07:00:30.023504Z",
     "start_time": "2022-01-24T07:00:30.008500Z"
    }
   },
   "outputs": [
    {
     "name": "stdout",
     "output_type": "stream",
     "text": [
      "Available GPU Count:  1\n"
     ]
    }
   ],
   "source": [
    "import tensorflow as tf\n",
    "gpu_list=tf.config.list_physical_devices('GPU')\n",
    "print(\"Available GPU Count: \", len(gpu_list))"
   ]
  },
  {
   "cell_type": "markdown",
   "id": "a989dc91",
   "metadata": {},
   "source": [
    "## Model Train/Test"
   ]
  },
  {
   "cell_type": "code",
   "execution_count": null,
   "id": "d5b1b020",
   "metadata": {
    "ExecuteTime": {
     "start_time": "2022-01-24T07:00:26.529Z"
    }
   },
   "outputs": [
    {
     "name": "stdout",
     "output_type": "stream",
     "text": [
      "Epoch 1/90\n"
     ]
    }
   ],
   "source": [
    "model.fit(\n",
    "    train_generator,\n",
    "    steps_per_epoch = train_samples // batch_size,\n",
    "    epochs = epochs, \n",
    "    validation_data = validation_generator, \n",
    "    validation_steps = validation_samples // batch_size,\n",
    "    verbose=1\n",
    ")\n",
    "\n",
    "model.save_weights('first_try.h5')"
   ]
  },
  {
   "cell_type": "code",
   "execution_count": null,
   "id": "992d76d7",
   "metadata": {},
   "outputs": [],
   "source": []
  },
  {
   "cell_type": "code",
   "execution_count": null,
   "id": "a33afc78",
   "metadata": {},
   "outputs": [],
   "source": []
  }
 ],
 "metadata": {
  "kernelspec": {
   "display_name": "Python 3 (ipykernel)",
   "language": "python",
   "name": "python3"
  },
  "language_info": {
   "codemirror_mode": {
    "name": "ipython",
    "version": 3
   },
   "file_extension": ".py",
   "mimetype": "text/x-python",
   "name": "python",
   "nbconvert_exporter": "python",
   "pygments_lexer": "ipython3",
   "version": "3.8.8"
  },
  "toc": {
   "base_numbering": 1,
   "nav_menu": {},
   "number_sections": true,
   "sideBar": true,
   "skip_h1_title": false,
   "title_cell": "Table of Contents",
   "title_sidebar": "Contents",
   "toc_cell": false,
   "toc_position": {},
   "toc_section_display": true,
   "toc_window_display": false
  },
  "varInspector": {
   "cols": {
    "lenName": 16,
    "lenType": 16,
    "lenVar": 40
   },
   "kernels_config": {
    "python": {
     "delete_cmd_postfix": "",
     "delete_cmd_prefix": "del ",
     "library": "var_list.py",
     "varRefreshCmd": "print(var_dic_list())"
    },
    "r": {
     "delete_cmd_postfix": ") ",
     "delete_cmd_prefix": "rm(",
     "library": "var_list.r",
     "varRefreshCmd": "cat(var_dic_list()) "
    }
   },
   "types_to_exclude": [
    "module",
    "function",
    "builtin_function_or_method",
    "instance",
    "_Feature"
   ],
   "window_display": false
  }
 },
 "nbformat": 4,
 "nbformat_minor": 5
}
